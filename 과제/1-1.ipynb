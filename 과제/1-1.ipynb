{
 "cells": [
  {
   "cell_type": "markdown",
   "id": "2fb6a1cc",
   "metadata": {},
   "source": [
    "문제 1-1 : 기본 체인 만들기 - AI 요리사\n",
    "\n",
    "문제 설명:\n",
    "사용자가 재료를 입력하면 그 재료로 만들 수 있는 요리를 추천해주는 간단한 AI 요리사를 만들어보세요.\n",
    "요구사항\n",
    "PromptTemplate을 사용하여 프롬프트 작성\n",
    "사용자가 입력한 재료를 받아서 요리 추천\n",
    "ChatOpenAI 모델 사용\n",
    "StrOutputParser로 결과를 문자열로 출력\n",
    "LCEL(|) 문법을 사용하여 체인 연결\n",
    "구현 조건\n",
    "입력: 재료명 (예: \"토마토, 양파, 치즈\")\n",
    "출력: 추천 요리와 간단한 레시피\n",
    "예상 실행 결과\n",
    "입력: \"계란, 밥, 김치\"\n",
    "출력: \n",
    "계란과 밥, 김치로 만들 수 있는 요리를 추천드립니다!\n",
    "\n",
    "추천 요리: 김치볶음밥\n",
    "재료: 계란, 밥, 김치\n",
    "조리법:\n",
    "1. 팬에 기름을 두르고 김치를 볶아주세요\n",
    "2. 밥을 넣고 함께 볶아주세요\n",
    "3. 계란을 풀어서 넣고 잘 섞어주세요\n",
    "...\n"
   ]
  },
  {
   "cell_type": "code",
   "execution_count": 11,
   "id": "c74fd8b3",
   "metadata": {},
   "outputs": [],
   "source": [
    "import os\n",
    "from dotenv import load_dotenv\n",
    "from langchain_core.prompts import ChatPromptTemplate\n",
    "from langchain_openai import ChatOpenAI \n",
    "\n",
    "\n",
    "load_dotenv()\n",
    "OPENAI_API_KEY = os.getenv(\"OPENAI_API_KEY\")"
   ]
  },
  {
   "cell_type": "code",
   "execution_count": 12,
   "id": "8d32aabe",
   "metadata": {},
   "outputs": [
    {
     "name": "stdout",
     "output_type": "stream",
     "text": [
      "client=<openai.resources.chat.completions.completions.Completions object at 0x000001397E2AA710> async_client=<openai.resources.chat.completions.completions.AsyncCompletions object at 0x000001397E2AAAD0> root_client=<openai.OpenAI object at 0x000001397E2A8910> root_async_client=<openai.AsyncOpenAI object at 0x000001397E2AA850> model_name='meta-llama/llama-4-scout-17b-16e-instruct' temperature=0.7 model_kwargs={} openai_api_key=SecretStr('**********') openai_api_base='https://api.groq.com/openai/v1'\n"
     ]
    }
   ],
   "source": [
    "# Groq API를 사용하는 ChatOpenAI 인스턴스 생성\n",
    "llm = ChatOpenAI(\n",
    "    #api_key=OPENAI_API_KEY,\n",
    "    base_url=\"https://api.groq.com/openai/v1\",  # Groq API 엔드포인트\n",
    "    model=\"meta-llama/llama-4-scout-17b-16e-instruct\",\n",
    "    #model=\"mistral-saba-24b\",\n",
    "    temperature=0.7\n",
    ")\n",
    "print(llm)"
   ]
  },
  {
   "cell_type": "code",
   "execution_count": 13,
   "id": "f0517507",
   "metadata": {},
   "outputs": [
    {
     "data": {
      "text/plain": [
       "PromptTemplate(input_variables=['input'], input_types={}, partial_variables={}, template='다음 재료를 가지고 만들 수 있는 요리를 추천하고 간단한 레시피를 알려줘: {input}')"
      ]
     },
     "execution_count": 13,
     "metadata": {},
     "output_type": "execute_result"
    }
   ],
   "source": [
    "from langchain_core.prompts import PromptTemplate\n",
    "\n",
    "prompt = PromptTemplate.from_template(\n",
    "    \"다음 재료를 가지고 만들 수 있는 요리를 추천하고 간단한 레시피를 알려줘: {input}\"\n",
    ")\n",
    "prompt"
   ]
  },
  {
   "cell_type": "code",
   "execution_count": 14,
   "id": "24e18afb",
   "metadata": {},
   "outputs": [
    {
     "name": "stdout",
     "output_type": "stream",
     "text": [
      "<class 'langchain_core.runnables.base.RunnableSequence'>\n"
     ]
    }
   ],
   "source": [
    "from langchain_core.output_parsers import StrOutputParser\n",
    "\n",
    "# chain 연결 (LCEL) prompt + llm + outputparser\n",
    "output_parser = StrOutputParser()\n",
    "\n",
    "chain = prompt | llm | output_parser\n",
    "print(type(chain))"
   ]
  },
  {
   "cell_type": "code",
   "execution_count": 15,
   "id": "291098e9",
   "metadata": {},
   "outputs": [
    {
     "name": "stdout",
     "output_type": "stream",
     "text": [
      "<class 'str'>\n",
      "**계란과 김치**를 함께 요리해야 할까요? 그렇다면 **김치**를 먼저 볶아주세요. **김치**를 볶으면서 **계란**을 넣으면 **계란**이 **김치**에 섞여 **김치**에 물컹한 식감을 줄 수 있습니다.\n",
      "\n",
      "1.  **김치 볶기**: 팬에 기름을 두르고 잘게 썬 **김치**를 넣어 볶습니다. **김치**가 약간 익으면 소금과 후추로 간을 조절하세요.\n",
      "2.  **계란 넣기**: 팬에 **계란**을 넣고 잘 섞어주세요. **계란**이 **김치**와 잘 섞이면 더 좋습니다.\n",
      "3.  **밥 넣기**: 팬에 밥을 넣고 잘 섞어주세요. 밥이 **김치**와 **계란**과 잘 섞이면 더 좋습니다.\n",
      "\n",
      "**레시피**\n",
      "\n",
      "*   **재료**: 계란 2개, 밥 1컵, 김치 1/2컵\n",
      "*   **요리 방법**: 김치를 볶고 계란을 넣고 섞은 후 밥을 넣고 섞어주세요.\n",
      "\n",
      "**요리 팁**\n",
      "\n",
      "*   **김치**를 잘게 썰면 더 맛있습니다.\n",
      "*   **계란**을 넣을 때는 **김치**가 약간 익은 후에 넣는 것이 좋습니다.\n",
      "*   **밥**을 넣을 때는 **김치**와 **계란**이 잘 섞인 후에 넣는 것이 좋습니다.\n"
     ]
    }
   ],
   "source": [
    "# chain 호출\n",
    "try:\n",
    "    result = chain.invoke({\"input\": \"계란, 밥, 김치\"})\n",
    "    print(type(result))\n",
    "    print(result)\n",
    "except Exception as e:\n",
    "    print(f\"오류 발생: {e}\")"
   ]
  },
  {
   "cell_type": "code",
   "execution_count": null,
   "id": "5bc475ee",
   "metadata": {},
   "outputs": [],
   "source": []
  }
 ],
 "metadata": {
  "kernelspec": {
   "display_name": "langchain-basic-kGdHTiMZ-py3.13",
   "language": "python",
   "name": "python3"
  },
  "language_info": {
   "codemirror_mode": {
    "name": "ipython",
    "version": 3
   },
   "file_extension": ".py",
   "mimetype": "text/x-python",
   "name": "python",
   "nbconvert_exporter": "python",
   "pygments_lexer": "ipython3",
   "version": "3.13.3"
  }
 },
 "nbformat": 4,
 "nbformat_minor": 5
}
