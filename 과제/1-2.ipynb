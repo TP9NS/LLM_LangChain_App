{
 "cells": [
  {
   "cell_type": "markdown",
   "id": "404eed3c",
   "metadata": {},
   "source": [
    "문제 1-2 : 2단계 체인 만들기 - 영화 추천 시스템 \n",
    "\n",
    "문제 설명\n",
    "\n",
    "사용자가 좋아하는 장르를 입력하면, 영화를 추천하고 그 영화의 정보(감독, 줄거리, 등장인물)들을  알려주는 2단계 체인을 구현해보세요.\n",
    "\n",
    "요구사항\n",
    "\n",
    "1단계 체인: 장르를 입력받아 영화 1편 추천\n",
    "2단계 체인: 추천받은 영화의 3줄 줄거리 요약 제공\n",
    "ChatPromptTemplate 사용 \n",
    ": “system”  과 “human” 메시지를 지정합니다.\n",
    "두 체인을 LCEL로 연결\n",
    "각 단계의 결과를 모두 출력하여 과정 확인\n",
    "구현 조건\n",
    "\n",
    "입력: 영화 장르 (예: \"액션\", \"로맨스\", \"공포\")\n",
    "1단계 출력: 추천 영화 제목과 간단한 설명\n",
    "2단계 출력: 영화 줄거리 3줄 요약\n",
    "\n",
    "예상 실행 결과\n",
    "입력: \"액션\"\n",
    "1단계 결과: \"미션 임파서블\" 추천\n",
    "2단계 결과: \n",
    "영화: 미션 임파서블\n",
    "줄거리:\n",
    "1. 특수 요원 이든 헌트가 불가능한 임무를 수행합니다\n",
    "2. 배신과 음모 속에서 진실을 찾아 나갑니다\n",
    "3. 액션과 스릴러가 가득한 스파이 영화입니다\n"
   ]
  },
  {
   "cell_type": "code",
   "execution_count": 3,
   "id": "a8c41933",
   "metadata": {},
   "outputs": [],
   "source": [
    "import os\n",
    "from dotenv import load_dotenv\n",
    "from langchain_core.prompts import ChatPromptTemplate\n",
    "from langchain_openai import ChatOpenAI \n",
    "\n",
    "\n",
    "load_dotenv()\n",
    "OPENAI_API_KEY = os.getenv(\"OPENAI_API_KEY\")"
   ]
  },
  {
   "cell_type": "code",
   "execution_count": 4,
   "id": "1148250a",
   "metadata": {},
   "outputs": [
    {
     "name": "stdout",
     "output_type": "stream",
     "text": [
      "client=<openai.resources.chat.completions.completions.Completions object at 0x00000184EA264440> async_client=<openai.resources.chat.completions.completions.AsyncCompletions object at 0x00000184EA264EC0> root_client=<openai.OpenAI object at 0x00000184E9DE9550> root_async_client=<openai.AsyncOpenAI object at 0x00000184EA264C20> model_name='meta-llama/llama-4-scout-17b-16e-instruct' temperature=0.7 model_kwargs={} openai_api_key=SecretStr('**********') openai_api_base='https://api.groq.com/openai/v1'\n"
     ]
    }
   ],
   "source": [
    "# Groq API를 사용하는 ChatOpenAI 인스턴스 생성\n",
    "llm = ChatOpenAI(\n",
    "    #api_key=OPENAI_API_KEY,\n",
    "    base_url=\"https://api.groq.com/openai/v1\",  # Groq API 엔드포인트\n",
    "    model=\"meta-llama/llama-4-scout-17b-16e-instruct\",\n",
    "    #model=\"mistral-saba-24b\",\n",
    "    temperature=0.7\n",
    ")\n",
    "print(llm)"
   ]
  },
  {
   "cell_type": "code",
   "execution_count": 30,
   "id": "ac6490dd",
   "metadata": {},
   "outputs": [
    {
     "name": "stdout",
     "output_type": "stream",
     "text": [
      "<class 'langchain_core.runnables.base.RunnableSequence'>\n",
      "'존 윅' - 전설적인 킬러 존 윅이 우연히 범죄 조직 보스의 개를 죽이면서 벌어지는 이야기입니다."
     ]
    }
   ],
   "source": [
    "from langchain_core.output_parsers import StrOutputParser\n",
    "from langchain_core.prompts import ChatPromptTemplate\n",
    "# chain 연결 (LCEL) prompt + llm + outputparser\n",
    "\n",
    "prompt1 = ChatPromptTemplate.from_messages([\n",
    "    (\"system\", \"너는 영화 추천 전문가야.\"),\n",
    "    (\"human\", \"{genre} 장르 중 추천할만한 영화를 하나의 제목을 먼저 얘기하고 한 줄 설명을 줘.\"),\n",
    "])\n",
    "\n",
    "\n",
    "chain1 = prompt1 | llm | StrOutputParser()\n",
    "print(type(chain1))\n",
    "\n",
    "# 스트리밍 출력을 위한 요청\n",
    "try:\n",
    "    answer = chain1.stream({\"genre\": \"액션\"})\n",
    "\n",
    "    for token in answer:\n",
    "        # 스트림에서 받은 데이터의 내용을 출력합니다. 줄바꿈 없이 이어서 출력하고, 버퍼를 즉시 비웁니다.\n",
    "        print(token, end=\"\", flush=True)\n",
    "\n",
    "except Exception as e:\n",
    "    print(f\"오류 발생: {e}\")\n"
   ]
  },
  {
   "cell_type": "code",
   "execution_count": 35,
   "id": "719e21f6",
   "metadata": {},
   "outputs": [],
   "source": [
    "prompt2 = ChatPromptTemplate.from_messages([\n",
    "    (\"system\", \"너는 영화 줄거리 요약가야.\"),\n",
    "    (\"human\", \"영화 {movie} 의 제목을 먼저 말하고 줄거리를 3줄로 요약해줘. ex ) 영화: [] \\n 줄거리: []\"),\n",
    "])"
   ]
  },
  {
   "cell_type": "code",
   "execution_count": 36,
   "id": "55ebca78",
   "metadata": {},
   "outputs": [
    {
     "name": "stdout",
     "output_type": "stream",
     "text": [
      "영화: 존 윅\n",
      "줄거리: 전설적인 킬러 존 윅은 은퇴 후 평화로운 삶을 살고자 하지만, 우연히 범죄 조직의 표적이 되고 맙니다. 조직의 일원인 이오진에게 차량을 훔치기고, 그의 개마저 죽임을 당한 존 윅은 피할 수 없는 전쟁을 벌이게 됩니다. 존 윅은 전 세계의 범죄 조직과 싸우며 자신만의 복수를 시작합니다.\n"
     ]
    }
   ],
   "source": [
    "try:\n",
    "    chain2 = (\n",
    "        {\"movie\": chain1}  # chain1의 출력을 movie 입력 변수로 전달\n",
    "        | prompt2\n",
    "        | llm\n",
    "        | StrOutputParser()\n",
    "    )\n",
    "    response = chain2.invoke({\"genre\": \"액션\"})\n",
    "    print(response)  \n",
    "except Exception as e:\n",
    "    print(f\"오류 발생: {e}\")"
   ]
  },
  {
   "cell_type": "markdown",
   "id": "e677afcd",
   "metadata": {},
   "source": []
  }
 ],
 "metadata": {
  "kernelspec": {
   "display_name": "langchain-basic-kGdHTiMZ-py3.13",
   "language": "python",
   "name": "python3"
  },
  "language_info": {
   "codemirror_mode": {
    "name": "ipython",
    "version": 3
   },
   "file_extension": ".py",
   "mimetype": "text/x-python",
   "name": "python",
   "nbconvert_exporter": "python",
   "pygments_lexer": "ipython3",
   "version": "3.13.3"
  }
 },
 "nbformat": 4,
 "nbformat_minor": 5
}
