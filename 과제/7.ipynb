{
 "cells": [
  {
   "cell_type": "markdown",
   "id": "d130b7aa",
   "metadata": {},
   "source": [
    "문제 7-1 : LangGraph ReAct Agent 실습 연습문제 (Vector DB + Tool 연동) \n",
    "사용자 정의 ReAct Agent 구현 (조건부 엣지 활용)\n",
    "문제 설명\n",
    "prebuilt 컴포넌트를 사용하지 않고, StateGraph와 조건부 엣지를 활용하여 사용자 정의 ReAct Agent를 구현하세요. Agent는 카페 메뉴 검색 도구를 활용하여 고객의 음료 및 디저트 관련 질문에 답변하며, LLM 응답에 도구 호출이 포함되어 있으면 도구를 실행하고, 그렇지 않으면 답변을 완료하는 구조로 작동해야 합니다.\n",
    "학습 목표\n",
    "사용자 정의 Agent 구조: StateGraph를 사용한 커스텀 ReAct 패턴 구현\n",
    "조건부 엣지 활용: tools_condition을 사용한 동적 흐름 제어\n",
    "ToolNode 이해: 카페 메뉴 검색을 담당하는 노드 활용\n",
    "메시지 상태 관리: MessagesState를 통한 대화 히스토리 관리\n",
    "핵심 개념 설명\n",
    "1. 카페 도메인 특화 Agent\n",
    "아메리카노 vs 아이스 아메리카노: 온도와 제조 방식의 차이점 설명\n",
    "라떼 계열 메뉴: 카페라떼, 바닐라 라떼, 녹차 라떼 등의 특징 비교\n",
    "가격대별 추천: ₩4,500~₩7,500 범위의 카페 메뉴 추천\n",
    "2. MessagesState 기반 상태 관리\n",
    "from langgraph.graph import MessagesState\n",
    "class AgentState(MessagesState):\n",
    "    pass\n",
    "3. 조건부 엣지 함수\n",
    "from langgraph.prebuilt import tools_condition\n",
    "# tools_condition은 자동으로 도구 호출 여부를 판단\n",
    "builder.add_conditional_edges(\"agent\", tools_condition)\n",
    "구현 요구사항\n",
    "카페 상태 정의: MessagesState를 상속한 Agent 상태 정의\n",
    "카페 Agent 노드: 카페 메뉴 관련 LLM 응답 생성 노드\n",
    "카페 메뉴 Tool 노드: search_cafe_menu를 사용한 도구 실행 노드\n",
    "조건부 분기: tools_condition을 사용한 자동 분기\n",
    "순환 구조: 도구 실행 후 다시 Agent로 돌아가는 구조\n",
    "테스트 시나리오\n",
    "아메리카노 비교: \"아메리카노와 아이스 아메리카노의 차이점과 가격을 알려주세요.\"\n",
    "라떼 종류 문의: \"라떼 종류에는 어떤 메뉴들이 있고 각각의 특징은 무엇인가요?\"\n",
    "디저트 문의: \"디저트 메뉴 중에서 티라미수에 대해 자세히 설명해주세요.\"\n"
   ]
  },
  {
   "cell_type": "markdown",
   "id": "9fc6987d",
   "metadata": {},
   "source": []
  }
 ],
 "metadata": {
  "language_info": {
   "name": "python"
  }
 },
 "nbformat": 4,
 "nbformat_minor": 5
}
