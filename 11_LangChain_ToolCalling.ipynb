{
 "cells": [
  {
   "cell_type": "markdown",
   "id": "bf1cf819",
   "metadata": {},
   "source": [
    "## 1. 환경 설정"
   ]
  },
  {
   "cell_type": "markdown",
   "id": "bc0cb932",
   "metadata": {},
   "source": [
    "`(1) Env 환경변수`"
   ]
  },
  {
   "cell_type": "code",
   "execution_count": 16,
   "id": "423dec5b",
   "metadata": {},
   "outputs": [
    {
     "data": {
      "text/plain": [
       "True"
      ]
     },
     "execution_count": 16,
     "metadata": {},
     "output_type": "execute_result"
    }
   ],
   "source": [
    "from dotenv import load_dotenv\n",
    "load_dotenv()"
   ]
  },
  {
   "cell_type": "markdown",
   "id": "b00b09cb",
   "metadata": {},
   "source": [
    "`(2) 라이브러리`"
   ]
  },
  {
   "cell_type": "code",
   "execution_count": 17,
   "id": "54412ba6",
   "metadata": {},
   "outputs": [],
   "source": [
    "import re\n",
    "import os, json\n",
    "\n",
    "from textwrap import dedent\n",
    "from pprint import pprint\n",
    "\n",
    "import warnings\n",
    "warnings.filterwarnings(\"ignore\")"
   ]
  },
  {
   "cell_type": "markdown",
   "id": "50e67655",
   "metadata": {},
   "source": [
    "## 2. 도구 호출 (Tool Calling)\n",
    "- 도구 호출은 LLM이 특정 작업을 수행하기 위해 외부 기능을 호출하는 기능\n",
    "- 이를 통해 LLM은 외부 API 통합 등 더 복잡한 작업을 수행할 수 있음 "
   ]
  },
  {
   "cell_type": "markdown",
   "id": "7bdccc6b",
   "metadata": {},
   "source": [
    "### 2-1. 랭체인 내장 도구\n",
    "- Tavily 웹 검색 도구 (예시)"
   ]
  },
  {
   "cell_type": "markdown",
   "id": "a6f7e257",
   "metadata": {},
   "source": [
    "`(1) 도구(tool) 정의하기`"
   ]
  },
  {
   "cell_type": "code",
   "execution_count": 18,
   "id": "7c85ed38",
   "metadata": {},
   "outputs": [
    {
     "name": "stdout",
     "output_type": "stream",
     "text": [
      "{'answer': None,\n",
      " 'follow_up_questions': None,\n",
      " 'images': [],\n",
      " 'query': '스테이크와 어울리는 와인을 추천해주세요.',\n",
      " 'response_time': 2.02,\n",
      " 'results': [{'content': '스테이크와 어울리는 최고의 와인 추천 :: 시난 데일리 와인 블로그 내 검색  삭제 스테이크와 '\n",
      "                         '어울리는 최고의 와인 추천 또한, 고기의 숙성 여부나 소스의 종류도 와인 선택에 중요한 요소가 '\n",
      "                         '될 수 있다. 아르헨티나의 말벡(Malbec)은 육즙이 풍부한 스테이크와 궁합이 좋으며, '\n",
      "                         '탄닌이 적절하고 과실미가 뛰어나 부담 없이 즐길 수 있다. 레드 와인은 보통 16~18°C '\n",
      "                         '정도에서 서빙해야 풍미가 가장 잘 살아나며, 너무 차갑거나 따뜻하면 와인의 본래 맛이 달라질 '\n",
      "                         '수 있다. 특히, 탄닌이 강한 보르도 와인이나 바롤로 같은 와인은 디캔팅을 통해 부드러운 '\n",
      "                         '질감을 살릴 수 있다. 스테이크와 와인을 더욱 완벽하게 즐기려면 와인 잔 선택도 중요하다. '\n",
      "                         '레드 와인은 볼이 넓은 글라스에서 마셔야 와인의 풍미가 극대화되며, 향을 더욱 깊이 느낄 수 '\n",
      "                         '있다. 립아이와 같은 기름진 부위는 까베르네 소비뇽과 잘 어울리며, 부드러운 필레미뇽에는 피노 '\n",
      "                         '누아가 좋은 선택이 될 수 있다.',\n",
      "              'raw_content': None,\n",
      "              'score': 0.9287263,\n",
      "              'title': '스테이크와 어울리는 최고의 와인 추천 :: 시난 데일리 와인',\n",
      "              'url': 'https://sinan23.com/entry/스테이크와-어울리는-최고의-와인-추천'},\n",
      "             {'content': '카베르네 소비뇽(Cabernet Sauvignon) 및 말벡(Malbec)과 같은 전형적인 '\n",
      "                         '선택부터 더 가벼운 레드 와인, 심지어 화이트 와인과 맛있는 스테이크를 페어링하는 방법까지, '\n",
      "                         '우리의 아카이브에서 가져온 최고의 조언과 최근 디캔터 전문가가 추천한 와인을 소개한다. '\n",
      "                         '<스테이크를 곁들인 레드 와인을 위한 5가지',\n",
      "              'raw_content': None,\n",
      "              'score': 0.91435975,\n",
      "              'title': '스테이크와 어울리는 최고의 와인: 무엇을 고를 것인가?',\n",
      "              'url': 'https://mashija.com/스테이크와-어울리는-최고의-와인-무엇을-고를-것인/'}]}\n",
      "query\n",
      "----------------------------------------------------------------------------------------------------\n",
      "follow_up_questions\n",
      "----------------------------------------------------------------------------------------------------\n",
      "answer\n",
      "----------------------------------------------------------------------------------------------------\n",
      "images\n",
      "----------------------------------------------------------------------------------------------------\n",
      "results\n",
      "----------------------------------------------------------------------------------------------------\n",
      "response_time\n",
      "----------------------------------------------------------------------------------------------------\n",
      "[{'title': '스테이크와 어울리는 최고의 와인 추천 :: 시난 데일리 와인', 'url': 'https://sinan23.com/entry/스테이크와-어울리는-최고의-와인-추천', 'content': '스테이크와 어울리는 최고의 와인 추천 :: 시난 데일리 와인 블로그 내 검색  삭제 스테이크와 어울리는 최고의 와인 추천 또한, 고기의 숙성 여부나 소스의 종류도 와인 선택에 중요한 요소가 될 수 있다. 아르헨티나의 말벡(Malbec)은 육즙이 풍부한 스테이크와 궁합이 좋으며, 탄닌이 적절하고 과실미가 뛰어나 부담 없이 즐길 수 있다. 레드 와인은 보통 16~18°C 정도에서 서빙해야 풍미가 가장 잘 살아나며, 너무 차갑거나 따뜻하면 와인의 본래 맛이 달라질 수 있다. 특히, 탄닌이 강한 보르도 와인이나 바롤로 같은 와인은 디캔팅을 통해 부드러운 질감을 살릴 수 있다. 스테이크와 와인을 더욱 완벽하게 즐기려면 와인 잔 선택도 중요하다. 레드 와인은 볼이 넓은 글라스에서 마셔야 와인의 풍미가 극대화되며, 향을 더욱 깊이 느낄 수 있다. 립아이와 같은 기름진 부위는 까베르네 소비뇽과 잘 어울리며, 부드러운 필레미뇽에는 피노 누아가 좋은 선택이 될 수 있다.', 'score': 0.9287263, 'raw_content': None}, {'title': '스테이크와 어울리는 최고의 와인: 무엇을 고를 것인가?', 'url': 'https://mashija.com/스테이크와-어울리는-최고의-와인-무엇을-고를-것인/', 'content': '카베르네 소비뇽(Cabernet Sauvignon) 및 말벡(Malbec)과 같은 전형적인 선택부터 더 가벼운 레드 와인, 심지어 화이트 와인과 맛있는 스테이크를 페어링하는 방법까지, 우리의 아카이브에서 가져온 최고의 조언과 최근 디캔터 전문가가 추천한 와인을 소개한다. <스테이크를 곁들인 레드 와인을 위한 5가지', 'score': 0.91435975, 'raw_content': None}]\n"
     ]
    }
   ],
   "source": [
    "from langchain_community.tools import TavilySearchResults\n",
    "from langchain_tavily.tavily_search import TavilySearch\n",
    "# 검색할 쿼리 설정\n",
    "query = \"스테이크와 어울리는 와인을 추천해주세요.\"\n",
    "\n",
    "# Tavily 검색 도구 초기화 (최대 2개의 결과 반환)\n",
    "#web_search = TavilySearchResults(max_results=2)\n",
    "web_search = TavilySearch(max_results=2)\n",
    "\n",
    "# 웹 검색 실행\n",
    "search_results = web_search.invoke(query)\n",
    "pprint(search_results)\n",
    "# 검색 결과 출력\n",
    "for result in search_results:\n",
    "    print(result)  \n",
    "    print(\"-\" * 100)\n",
    "print(search_results['results'])\n",
    "    "
   ]
  },
  {
   "cell_type": "code",
   "execution_count": 19,
   "id": "b6791575",
   "metadata": {},
   "outputs": [
    {
     "name": "stdout",
     "output_type": "stream",
     "text": [
      "자료형: \n",
      "<class 'langchain_tavily.tavily_search.TavilySearch'>\n",
      "----------------------------------------------------------------------------------------------------\n",
      "name: \n",
      "tavily_search\n",
      "----------------------------------------------------------------------------------------------------\n",
      "description: \n",
      "('A search engine optimized for comprehensive, accurate, and trusted results. '\n",
      " 'Useful for when you need to answer questions about current events. It not '\n",
      " 'only retrieves URLs and snippets, but offers advanced search depths, domain '\n",
      " 'management, time range filters, and image search, this tool delivers '\n",
      " 'real-time, accurate, and citation-backed results.Input should be a search '\n",
      " 'query.')\n",
      "----------------------------------------------------------------------------------------------------\n",
      "schema: \n",
      "{'description': 'Input for [TavilySearch]',\n",
      " 'properties': {'exclude_domains': {'anyOf': [{'items': {'type': 'string'},\n",
      "                                               'type': 'array'},\n",
      "                                              {'type': 'null'}],\n",
      "                                    'default': [],\n",
      "                                    'description': 'A list of domains to '\n",
      "                                                   'exclude from search '\n",
      "                                                   'results.\\n'\n",
      "                                                   '\\n'\n",
      "                                                   '        Use this parameter '\n",
      "                                                   'when:\\n'\n",
      "                                                   '        1. The user '\n",
      "                                                   'explicitly requests to '\n",
      "                                                   'avoid certain websites '\n",
      "                                                   '(e.g., \"Find information '\n",
      "                                                   'about climate change but '\n",
      "                                                   'not from twitter.com\")\\n'\n",
      "                                                   '        2. The user '\n",
      "                                                   'mentions not wanting '\n",
      "                                                   'results from specific '\n",
      "                                                   'organizations without '\n",
      "                                                   'naming the domain (e.g., '\n",
      "                                                   '\"Find phone reviews but '\n",
      "                                                   'nothing from Apple\")\\n'\n",
      "                                                   '\\n'\n",
      "                                                   '        In both cases, you '\n",
      "                                                   'should determine the '\n",
      "                                                   'appropriate domains to '\n",
      "                                                   'exclude (e.g., '\n",
      "                                                   '[\"twitter.com\"] or '\n",
      "                                                   '[\"apple.com\"]) and set '\n",
      "                                                   'this parameter.\\n'\n",
      "                                                   '\\n'\n",
      "                                                   '        Results will '\n",
      "                                                   'filter out all content '\n",
      "                                                   'from the specified '\n",
      "                                                   'domains.\\n'\n",
      "                                                   '        Default is None '\n",
      "                                                   '(no domain exclusion).\\n'\n",
      "                                                   '        ',\n",
      "                                    'title': 'Exclude Domains'},\n",
      "                'include_domains': {'anyOf': [{'items': {'type': 'string'},\n",
      "                                               'type': 'array'},\n",
      "                                              {'type': 'null'}],\n",
      "                                    'default': [],\n",
      "                                    'description': 'A list of domains to '\n",
      "                                                   'restrict search results '\n",
      "                                                   'to.\\n'\n",
      "                                                   '\\n'\n",
      "                                                   '        Use this parameter '\n",
      "                                                   'when:\\n'\n",
      "                                                   '        1. The user '\n",
      "                                                   'explicitly requests '\n",
      "                                                   'information from specific '\n",
      "                                                   'websites (e.g., \"Find '\n",
      "                                                   'climate data from '\n",
      "                                                   'nasa.gov\")\\n'\n",
      "                                                   '        2. The user '\n",
      "                                                   'mentions an organization '\n",
      "                                                   'or company without '\n",
      "                                                   'specifying the domain '\n",
      "                                                   '(e.g., \"Find information '\n",
      "                                                   'about iPhones from '\n",
      "                                                   'Apple\")\\n'\n",
      "                                                   '\\n'\n",
      "                                                   '        In both cases, you '\n",
      "                                                   'should determine the '\n",
      "                                                   'appropriate domains (e.g., '\n",
      "                                                   '[\"nasa.gov\"] or '\n",
      "                                                   '[\"apple.com\"]) and set '\n",
      "                                                   'this parameter.\\n'\n",
      "                                                   '\\n'\n",
      "                                                   '        Results will ONLY '\n",
      "                                                   'come from the specified '\n",
      "                                                   'domains - no other sources '\n",
      "                                                   'will be included.\\n'\n",
      "                                                   '        Default is None '\n",
      "                                                   '(no domain restriction).\\n'\n",
      "                                                   '        ',\n",
      "                                    'title': 'Include Domains'},\n",
      "                'include_images': {'anyOf': [{'type': 'boolean'},\n",
      "                                             {'type': 'null'}],\n",
      "                                   'default': False,\n",
      "                                   'description': 'Determines if the search '\n",
      "                                                  'returns relevant images '\n",
      "                                                  'along with text results.\\n'\n",
      "                                                  '   \\n'\n",
      "                                                  '        Set to True when '\n",
      "                                                  'the user explicitly '\n",
      "                                                  'requests visuals or when '\n",
      "                                                  'images would \\n'\n",
      "                                                  '        significantly '\n",
      "                                                  'enhance understanding '\n",
      "                                                  '(e.g., \"Show me what black '\n",
      "                                                  'holes look like,\" \\n'\n",
      "                                                  '        \"Find pictures of '\n",
      "                                                  'Renaissance art\").\\n'\n",
      "                                                  '        \\n'\n",
      "                                                  '        Leave as False '\n",
      "                                                  '(default) for most '\n",
      "                                                  'informational queries where '\n",
      "                                                  'text is sufficient.\\n'\n",
      "                                                  '        ',\n",
      "                                   'title': 'Include Images'},\n",
      "                'query': {'description': 'Search query to look up',\n",
      "                          'title': 'Query',\n",
      "                          'type': 'string'},\n",
      "                'search_depth': {'anyOf': [{'enum': ['basic', 'advanced'],\n",
      "                                            'type': 'string'},\n",
      "                                           {'type': 'null'}],\n",
      "                                 'default': 'basic',\n",
      "                                 'description': 'Controls search thoroughness '\n",
      "                                                'and result '\n",
      "                                                'comprehensiveness.\\n'\n",
      "                                                '    \\n'\n",
      "                                                '        Use \"basic\" for '\n",
      "                                                'simple queries requiring '\n",
      "                                                'quick, straightforward '\n",
      "                                                'answers.\\n'\n",
      "                                                '        \\n'\n",
      "                                                '        Use \"advanced\" '\n",
      "                                                '(default) for complex '\n",
      "                                                'queries, specialized '\n",
      "                                                'topics, \\n'\n",
      "                                                '        rare information, or '\n",
      "                                                'when in-depth analysis is '\n",
      "                                                'needed.\\n'\n",
      "                                                '        ',\n",
      "                                 'title': 'Search Depth'},\n",
      "                'time_range': {'anyOf': [{'enum': ['day',\n",
      "                                                   'week',\n",
      "                                                   'month',\n",
      "                                                   'year'],\n",
      "                                          'type': 'string'},\n",
      "                                         {'type': 'null'}],\n",
      "                               'default': None,\n",
      "                               'description': 'Limits results to content '\n",
      "                                              'published within a specific '\n",
      "                                              'timeframe.\\n'\n",
      "                                              '        \\n'\n",
      "                                              '        ONLY set this when the '\n",
      "                                              'user explicitly mentions a time '\n",
      "                                              'period \\n'\n",
      "                                              '        (e.g., \"latest AI '\n",
      "                                              'news,\" \"articles from last '\n",
      "                                              'week\").\\n'\n",
      "                                              '        \\n'\n",
      "                                              '        For less popular or '\n",
      "                                              'niche topics, use broader time '\n",
      "                                              'ranges \\n'\n",
      "                                              '        (\"month\" or \"year\") to '\n",
      "                                              'ensure sufficient relevant '\n",
      "                                              'results.\\n'\n",
      "                                              '   \\n'\n",
      "                                              '        Options: \"day\" (24h), '\n",
      "                                              '\"week\" (7d), \"month\" (30d), '\n",
      "                                              '\"year\" (365d).\\n'\n",
      "                                              '        \\n'\n",
      "                                              '        Default is None.\\n'\n",
      "                                              '        ',\n",
      "                               'title': 'Time Range'},\n",
      "                'topic': {'anyOf': [{'enum': ['general', 'news', 'finance'],\n",
      "                                     'type': 'string'},\n",
      "                                    {'type': 'null'}],\n",
      "                          'default': 'general',\n",
      "                          'description': 'Specifies search category for '\n",
      "                                         'optimized results.\\n'\n",
      "                                         '   \\n'\n",
      "                                         '        Use \"general\" (default) for '\n",
      "                                         'most queries, INCLUDING those with '\n",
      "                                         'terms like \\n'\n",
      "                                         '        \"latest,\" \"newest,\" or '\n",
      "                                         '\"recent\" when referring to general '\n",
      "                                         'information.\\n'\n",
      "                                         '\\n'\n",
      "                                         '        Use \"finance\" for markets, '\n",
      "                                         'investments, economic data, or '\n",
      "                                         'financial news.\\n'\n",
      "                                         '\\n'\n",
      "                                         '        Use \"news\" ONLY for '\n",
      "                                         'politics, sports, or major current '\n",
      "                                         'events covered by \\n'\n",
      "                                         '        mainstream media - NOT '\n",
      "                                         'simply because a query asks for '\n",
      "                                         '\"new\" information.\\n'\n",
      "                                         '        ',\n",
      "                          'title': 'Topic'}},\n",
      " 'required': ['query'],\n",
      " 'title': 'TavilySearchInput',\n",
      " 'type': 'object'}\n",
      "----------------------------------------------------------------------------------------------------\n"
     ]
    }
   ],
   "source": [
    "# 도구 속성\n",
    "print(\"자료형: \")\n",
    "print(type(web_search))\n",
    "print(\"-\"*100)\n",
    "\n",
    "print(\"name: \")\n",
    "print(web_search.name)\n",
    "print(\"-\"*100)\n",
    "\n",
    "print(\"description: \")\n",
    "pprint(web_search.description)\n",
    "print(\"-\"*100)\n",
    "\n",
    "print(\"schema: \")\n",
    "pprint(web_search.args_schema.schema())\n",
    "print(\"-\"*100)"
   ]
  },
  {
   "cell_type": "markdown",
   "id": "88b600d9",
   "metadata": {},
   "source": [
    "`(2) 도구(tool) 호출하기`"
   ]
  },
  {
   "cell_type": "code",
   "execution_count": 20,
   "id": "51a3633c",
   "metadata": {},
   "outputs": [],
   "source": [
    "from langchain_openai import ChatOpenAI\n",
    "\n",
    "# ChatOpenAI 모델 초기화\n",
    "llm = ChatOpenAI(model=\"gpt-3.5-turbo-0125\")\n",
    "\n",
    "# 웹 검색 도구를 직접 LLM에 바인딩 가능\n",
    "llm_with_tools = llm.bind_tools(tools=[web_search])"
   ]
  },
  {
   "cell_type": "code",
   "execution_count": 21,
   "id": "17d2468d",
   "metadata": {},
   "outputs": [
    {
     "name": "stdout",
     "output_type": "stream",
     "text": [
      "AIMessage(content='안녕하세요! 무엇을 도와드릴까요?', additional_kwargs={'refusal': None}, response_metadata={'token_usage': {'completion_tokens': 22, 'prompt_tokens': 813, 'total_tokens': 835, 'completion_tokens_details': {'accepted_prediction_tokens': 0, 'audio_tokens': 0, 'reasoning_tokens': 0, 'rejected_prediction_tokens': 0}, 'prompt_tokens_details': {'audio_tokens': 0, 'cached_tokens': 0}}, 'model_name': 'gpt-3.5-turbo-0125', 'system_fingerprint': None, 'id': 'chatcmpl-BiwmSjbjCXVASosxoMDpQ1rCN6trp', 'service_tier': 'default', 'finish_reason': 'stop', 'logprobs': None}, id='run--6fc1c379-ff47-4a91-b575-dec679a5c601-0', usage_metadata={'input_tokens': 813, 'output_tokens': 22, 'total_tokens': 835, 'input_token_details': {'audio': 0, 'cache_read': 0}, 'output_token_details': {'audio': 0, 'reasoning': 0}})\n",
      "----------------------------------------------------------------------------------------------------\n",
      "'안녕하세요! 무엇을 도와드릴까요?'\n",
      "----------------------------------------------------------------------------------------------------\n",
      "[]\n",
      "----------------------------------------------------------------------------------------------------\n"
     ]
    }
   ],
   "source": [
    "# 도구 호출이 필요 없는 LLM 호출을 수행\n",
    "query = \"안녕하세요.\"\n",
    "ai_msg = llm_with_tools.invoke(query)\n",
    "\n",
    "# LLM의 전체 출력 결과 출력\n",
    "pprint(ai_msg)\n",
    "print(\"-\" * 100)\n",
    "\n",
    "# 메시지 content 속성 (텍스트 출력)\n",
    "pprint(ai_msg.content)\n",
    "print(\"-\" * 100)\n",
    "\n",
    "# LLM이 호출한 도구 정보 출력\n",
    "pprint(ai_msg.tool_calls)\n",
    "print(\"-\" * 100)"
   ]
  },
  {
   "cell_type": "code",
   "execution_count": 22,
   "id": "dd8df009",
   "metadata": {},
   "outputs": [
    {
     "name": "stdout",
     "output_type": "stream",
     "text": [
      "{'additional_kwargs': {'refusal': None,\n",
      "                       'tool_calls': [{'function': {'arguments': '{\"query\":\"wine '\n",
      "                                                                 'pairing with '\n",
      "                                                                 'steak\"}',\n",
      "                                                    'name': 'tavily_search'},\n",
      "                                       'id': 'call_ZD6L5LWCWGWb5d7JjhMz3rYC',\n",
      "                                       'type': 'function'}]},\n",
      " 'content': '',\n",
      " 'example': False,\n",
      " 'id': 'run--f51250a0-82ff-45fc-ac49-6a0bd3da9ff4-0',\n",
      " 'invalid_tool_calls': [],\n",
      " 'name': None,\n",
      " 'response_metadata': {'finish_reason': 'tool_calls',\n",
      "                       'id': 'chatcmpl-BiwmTDWqkkRRvrMmURoHVdizAzizb',\n",
      "                       'logprobs': None,\n",
      "                       'model_name': 'gpt-3.5-turbo-0125',\n",
      "                       'service_tier': 'default',\n",
      "                       'system_fingerprint': None,\n",
      "                       'token_usage': {'completion_tokens': 19,\n",
      "                                       'completion_tokens_details': {'accepted_prediction_tokens': 0,\n",
      "                                                                     'audio_tokens': 0,\n",
      "                                                                     'reasoning_tokens': 0,\n",
      "                                                                     'rejected_prediction_tokens': 0},\n",
      "                                       'prompt_tokens': 829,\n",
      "                                       'prompt_tokens_details': {'audio_tokens': 0,\n",
      "                                                                 'cached_tokens': 0},\n",
      "                                       'total_tokens': 848}},\n",
      " 'tool_calls': [{'args': {'query': 'wine pairing with steak'},\n",
      "                 'id': 'call_ZD6L5LWCWGWb5d7JjhMz3rYC',\n",
      "                 'name': 'tavily_search',\n",
      "                 'type': 'tool_call'}],\n",
      " 'type': 'ai',\n",
      " 'usage_metadata': {'input_token_details': {'audio': 0, 'cache_read': 0},\n",
      "                    'input_tokens': 829,\n",
      "                    'output_token_details': {'audio': 0, 'reasoning': 0},\n",
      "                    'output_tokens': 19,\n",
      "                    'total_tokens': 848}}\n"
     ]
    }
   ],
   "source": [
    "from pprint import pprint\n",
    "\n",
    "# 도구 호출이 필요한 LLM 호출을 수행\n",
    "query = \"스테이크와 어울리는 와인을 추천해주세요.\"\n",
    "ai_msg = llm_with_tools.invoke(query)\n",
    "\n",
    "# AIMessage의 속성 확인\n",
    "pprint(vars(ai_msg))\n"
   ]
  },
  {
   "cell_type": "code",
   "execution_count": 23,
   "id": "2dcc0f63",
   "metadata": {},
   "outputs": [
    {
     "name": "stdout",
     "output_type": "stream",
     "text": [
      "AIMessage(content='', additional_kwargs={'tool_calls': [{'id': 'call_ZD6L5LWCWGWb5d7JjhMz3rYC', 'function': {'arguments': '{\"query\":\"wine pairing with steak\"}', 'name': 'tavily_search'}, 'type': 'function'}], 'refusal': None}, response_metadata={'token_usage': {'completion_tokens': 19, 'prompt_tokens': 829, 'total_tokens': 848, 'completion_tokens_details': {'accepted_prediction_tokens': 0, 'audio_tokens': 0, 'reasoning_tokens': 0, 'rejected_prediction_tokens': 0}, 'prompt_tokens_details': {'audio_tokens': 0, 'cached_tokens': 0}}, 'model_name': 'gpt-3.5-turbo-0125', 'system_fingerprint': None, 'id': 'chatcmpl-BiwmTDWqkkRRvrMmURoHVdizAzizb', 'service_tier': 'default', 'finish_reason': 'tool_calls', 'logprobs': None}, id='run--f51250a0-82ff-45fc-ac49-6a0bd3da9ff4-0', tool_calls=[{'name': 'tavily_search', 'args': {'query': 'wine pairing with steak'}, 'id': 'call_ZD6L5LWCWGWb5d7JjhMz3rYC', 'type': 'tool_call'}], usage_metadata={'input_tokens': 829, 'output_tokens': 19, 'total_tokens': 848, 'input_token_details': {'audio': 0, 'cache_read': 0}, 'output_token_details': {'audio': 0, 'reasoning': 0}})\n",
      "####################################################################################################\n",
      "''\n",
      "****************************************************************************************************\n",
      "[{'args': {'query': 'wine pairing with steak'},\n",
      "  'id': 'call_ZD6L5LWCWGWb5d7JjhMz3rYC',\n",
      "  'name': 'tavily_search',\n",
      "  'type': 'tool_call'}]\n",
      "----------------------------------------------------------------------------------------------------\n"
     ]
    }
   ],
   "source": [
    "\n",
    "pprint(ai_msg)\n",
    "print(\"#\" * 100)\n",
    "\n",
    "# 메시지 content 속성 (텍스트 출력)\n",
    "pprint(ai_msg.content)\n",
    "print(\"*\" * 100)\n",
    "\n",
    "# LLM이 호출한 도구 정보 출력\n",
    "pprint(ai_msg.tool_calls)\n",
    "print(\"-\" * 100)"
   ]
  },
  {
   "cell_type": "code",
   "execution_count": 24,
   "id": "84d0d45d",
   "metadata": {},
   "outputs": [
    {
     "name": "stdout",
     "output_type": "stream",
     "text": [
      "{'name': 'tavily_search', 'args': {'query': 'wine pairing with steak'}, 'id': 'call_ZD6L5LWCWGWb5d7JjhMz3rYC', 'type': 'tool_call'}\n"
     ]
    }
   ],
   "source": [
    "tool_call = ai_msg.tool_calls[0]\n",
    "\n",
    "print(tool_call)"
   ]
  },
  {
   "cell_type": "markdown",
   "id": "86835305",
   "metadata": {},
   "source": [
    "`(3) 도구(tool) 실행하기`\n",
    "\n",
    "#### 방법 1: 직접 도구 호출 처리한 결과로 ToolMessage 객체 생성\n",
    "\n",
    "* 이 방법은 AI 메시지에서 첫 번째 도구 호출을 가져와 직접 처리한다.\n",
    "* 'args'를 사용하여 도구를 호출하고 결과를 얻는다.\n",
    "* 도구 호출 결과를 사용하여 ToolMessage 객체를 생성한다.\n",
    "* 도구 호출의 ID와 이름을 포함하여 더 구조화된 ToolMessage 메시지를 만든다."
   ]
  },
  {
   "cell_type": "code",
   "execution_count": 25,
   "id": "a3eb0c7e",
   "metadata": {},
   "outputs": [
    {
     "name": "stdout",
     "output_type": "stream",
     "text": [
      "tavily_search 호출 결과:\n",
      "----------------------------------------------------------------------------------------------------\n",
      "{'answer': None,\n",
      " 'follow_up_questions': None,\n",
      " 'images': [],\n",
      " 'query': 'wine pairing with steak',\n",
      " 'response_time': 1.9,\n",
      " 'results': [{'content': 'The Handy Guide to Wine and Steak Pairing | Wine '\n",
      "                         'Folly The Handy Guide to Wine and Steak Pairing With '\n",
      "                         'so many different cuts and ways to prepare a steak, '\n",
      "                         'you can discover a few go-to dry red wines or you '\n",
      "                         'can dive deep into pairing nuance. The rule of thumb '\n",
      "                         'when pairing with steak is to choose dry red wines – '\n",
      "                         'leaner cuts of meat pair with lighter wines, while '\n",
      "                         'richer, fattier cuts pair up with high tannin wines '\n",
      "                         'that can cut through the fat. Why they work: The '\n",
      "                         'Strip is flavorful and a thicker grain cut of beef, '\n",
      "                         'making it useful for several different methods of '\n",
      "                         'cooking, but it needs a wine that can complement the '\n",
      "                         'flavor AND cut through the fat.',\n",
      "              'raw_content': None,\n",
      "              'score': 0.92763275,\n",
      "              'title': 'The Handy Guide to Wine and Steak Pairing',\n",
      "              'url': 'https://winefolly.com/wine-pairing/the-handy-guide-to-wine-and-steak-pairing/'},\n",
      "             {'content': 'Best Rosé Wine for Steak. When it comes to pouring a '\n",
      "                         'pink-hued wine with a fatty steak, Dunson suggests '\n",
      "                         'opting for Champagne. \"The effervescence cuts the '\n",
      "                         'fat and also refreshes the palate, while the red and '\n",
      "                         'citrus fruit match the intensity of the beef '\n",
      "                         'flavors,\" he says \"The yeasty bread component gives '\n",
      "                         'complexity and complementary flavors.',\n",
      "              'raw_content': None,\n",
      "              'score': 0.9061314,\n",
      "              'title': 'A Starter Guide to Wine and Steak Pairing',\n",
      "              'url': 'https://www.wineenthusiast.com/basics/how-to-pair/wine-and-steak-pairing/'}]}\n"
     ]
    }
   ],
   "source": [
    "tool_output = web_search.invoke(tool_call[\"args\"])\n",
    "print(f\"{tool_call['name']} 호출 결과:\")\n",
    "print(\"-\" * 100)\n",
    "\n",
    "pprint(tool_output)"
   ]
  },
  {
   "cell_type": "code",
   "execution_count": 26,
   "id": "df88bfcb",
   "metadata": {},
   "outputs": [
    {
     "name": "stdout",
     "output_type": "stream",
     "text": [
      "(\"{'query': 'wine pairing with steak', 'follow_up_questions': None, 'answer': \"\n",
      " \"None, 'images': [], 'results': [{'title': 'The Handy Guide to Wine and Steak \"\n",
      " \"Pairing', 'url': \"\n",
      " \"'https://winefolly.com/wine-pairing/the-handy-guide-to-wine-and-steak-pairing/', \"\n",
      " \"'content': 'The Handy Guide to Wine and Steak Pairing | Wine Folly The Handy \"\n",
      " 'Guide to Wine and Steak Pairing With so many different cuts and ways to '\n",
      " 'prepare a steak, you can discover a few go-to dry red wines or you can dive '\n",
      " 'deep into pairing nuance. The rule of thumb when pairing with steak is to '\n",
      " 'choose dry red wines – leaner cuts of meat pair with lighter wines, while '\n",
      " 'richer, fattier cuts pair up with high tannin wines that can cut through the '\n",
      " 'fat. Why they work: The Strip is flavorful and a thicker grain cut of beef, '\n",
      " 'making it useful for several different methods of cooking, but it needs a '\n",
      " \"wine that can complement the flavor AND cut through the fat.', 'score': \"\n",
      " \"0.92763275, 'raw_content': None}, {'title': 'A Starter Guide to Wine and \"\n",
      " \"Steak Pairing', 'url': \"\n",
      " \"'https://www.wineenthusiast.com/basics/how-to-pair/wine-and-steak-pairing/', \"\n",
      " \"'content': 'Best Rosé Wine for Steak. When it comes to pouring a pink-hued \"\n",
      " 'wine with a fatty steak, Dunson suggests opting for Champagne. \"The '\n",
      " 'effervescence cuts the fat and also refreshes the palate, while the red and '\n",
      " 'citrus fruit match the intensity of the beef flavors,\" he says \"The yeasty '\n",
      " \"bread component gives complexity and complementary flavors.', 'score': \"\n",
      " \"0.9061314, 'raw_content': None}], 'response_time': 1.9}\")\n"
     ]
    }
   ],
   "source": [
    "\n",
    "from langchain_core.messages import ToolMessage\n",
    "\n",
    "tool_message = ToolMessage(\n",
    "    content=tool_output,\n",
    "    tool_call_id=tool_call[\"id\"],\n",
    "    name=tool_call[\"name\"]\n",
    ")\n",
    "\n",
    "pprint(tool_message.content)"
   ]
  },
  {
   "cell_type": "markdown",
   "id": "1b75bf7f",
   "metadata": {},
   "source": [
    "#### 방법 2: 도구 직접 호출하여 바로 ToolMessage 객체 생성\n",
    "\n",
    "* 이 방법은 도구를 직접 호출하여 ToolMessage 객체를 생성한다.\n",
    "* 가장 간단하고 직관적인 방법으로, LangChain의 추상화를 활용한다."
   ]
  },
  {
   "cell_type": "code",
   "execution_count": 27,
   "id": "0f39f32b",
   "metadata": {},
   "outputs": [
    {
     "name": "stdout",
     "output_type": "stream",
     "text": [
      "<class 'langchain_core.messages.tool.ToolMessage'>\n",
      "\n",
      "=== 주요 속성들 ===\n",
      "content: {\"query\": \"wine pairing with steak\", \"follow_up_questions\": null, \"answer\": null, \"images\": [], \"results\": [{\"title\": \"The Handy Guide to Wine and Steak Pairing\", \"url\": \"https://winefolly.com/wine-pairing/the-handy-guide-to-wine-and-steak-pairing/\", \"content\": \"The Handy Guide to Wine and Steak Pairing | Wine Folly The Handy Guide to Wine and Steak Pairing With so many different cuts and ways to prepare a steak, you can discover a few go-to dry red wines or you can dive deep into pairing nuance. The rule of thumb when pairing with steak is to choose dry red wines – leaner cuts of meat pair with lighter wines, while richer, fattier cuts pair up with high tannin wines that can cut through the fat. Why they work: The Strip is flavorful and a thicker grain cut of beef, making it useful for several different methods of cooking, but it needs a wine that can complement the flavor AND cut through the fat.\", \"score\": 0.92763275, \"raw_content\": null}, {\"title\": \"A Starter Guide to Wine and Steak Pairing\", \"url\": \"https://www.wineenthusiast.com/basics/how-to-pair/wine-and-steak-pairing/\", \"content\": \"Best Rosé Wine for Steak. When it comes to pouring a pink-hued wine with a fatty steak, Dunson suggests opting for Champagne. \\\"The effervescence cuts the fat and also refreshes the palate, while the red and citrus fruit match the intensity of the beef flavors,\\\" he says \\\"The yeasty bread component gives complexity and complementary flavors.\", \"score\": 0.9061314, \"raw_content\": null}], \"response_time\": 0.92}\n",
      "tool_call_id: call_ZD6L5LWCWGWb5d7JjhMz3rYC\n",
      "name: tavily_search\n",
      "type: tool\n",
      "additional_kwargs: {}\n"
     ]
    }
   ],
   "source": [
    "# tool_call  {'name': 'tavily_search_results_json', 'args': {'query': 'wine pairing with steak'}, 'id': 'call_LrHyxTadqHDjW7J6LOWEaoSi', 'type': 'tool_call'}\n",
    "tool_message = web_search.invoke(tool_call)\n",
    "print(type(tool_message))\n",
    "\n",
    "# 특정 속성들만 확인\n",
    "print(\"\\n=== 주요 속성들 ===\")\n",
    "attributes = ['content', 'tool_call_id', 'name', 'type', 'additional_kwargs']\n",
    "for attr in attributes:\n",
    "    if hasattr(tool_message, attr):\n",
    "        print(f\"{attr}: {getattr(tool_message, attr)}\")\n"
   ]
  },
  {
   "cell_type": "code",
   "execution_count": 28,
   "id": "03d47ea5",
   "metadata": {},
   "outputs": [
    {
     "name": "stdout",
     "output_type": "stream",
     "text": [
      "('{\"query\": \"wine pairing with steak\", \"follow_up_questions\": null, \"answer\": '\n",
      " 'null, \"images\": [], \"results\": [{\"title\": \"The Handy Guide to Wine and Steak '\n",
      " 'Pairing\", \"url\": '\n",
      " '\"https://winefolly.com/wine-pairing/the-handy-guide-to-wine-and-steak-pairing/\", '\n",
      " '\"content\": \"The Handy Guide to Wine and Steak Pairing | Wine Folly The Handy '\n",
      " 'Guide to Wine and Steak Pairing With so many different cuts and ways to '\n",
      " 'prepare a steak, you can discover a few go-to dry red wines or you can dive '\n",
      " 'deep into pairing nuance. The rule of thumb when pairing with steak is to '\n",
      " 'choose dry red wines – leaner cuts of meat pair with lighter wines, while '\n",
      " 'richer, fattier cuts pair up with high tannin wines that can cut through the '\n",
      " 'fat. Why they work: The Strip is flavorful and a thicker grain cut of beef, '\n",
      " 'making it useful for several different methods of cooking, but it needs a '\n",
      " 'wine that can complement the flavor AND cut through the fat.\", \"score\": '\n",
      " '0.92763275, \"raw_content\": null}, {\"title\": \"A Starter Guide to Wine and '\n",
      " 'Steak Pairing\", \"url\": '\n",
      " '\"https://www.wineenthusiast.com/basics/how-to-pair/wine-and-steak-pairing/\", '\n",
      " '\"content\": \"Best Rosé Wine for Steak. When it comes to pouring a pink-hued '\n",
      " 'wine with a fatty steak, Dunson suggests opting for Champagne. \\\\\"The '\n",
      " 'effervescence cuts the fat and also refreshes the palate, while the red and '\n",
      " 'citrus fruit match the intensity of the beef flavors,\\\\\" he says \\\\\"The '\n",
      " 'yeasty bread component gives complexity and complementary flavors.\", '\n",
      " '\"score\": 0.9061314, \"raw_content\": null}], \"response_time\": 0.92}')\n"
     ]
    }
   ],
   "source": [
    "pprint(tool_message.content)\n"
   ]
  },
  {
   "cell_type": "code",
   "execution_count": 29,
   "id": "aeeb5890",
   "metadata": {},
   "outputs": [
    {
     "name": "stdout",
     "output_type": "stream",
     "text": [
      "'call_ZD6L5LWCWGWb5d7JjhMz3rYC'\n"
     ]
    }
   ],
   "source": [
    "pprint(tool_message.tool_call_id)"
   ]
  },
  {
   "cell_type": "code",
   "execution_count": 30,
   "id": "01309400",
   "metadata": {},
   "outputs": [
    {
     "name": "stdout",
     "output_type": "stream",
     "text": [
      "'tavily_search'\n"
     ]
    }
   ],
   "source": [
    "pprint(tool_message.name)"
   ]
  },
  {
   "cell_type": "code",
   "execution_count": 31,
   "id": "f3e71c37",
   "metadata": {},
   "outputs": [
    {
     "data": {
      "text/plain": [
       "[{'name': 'tavily_search',\n",
       "  'args': {'query': 'wine pairing with steak'},\n",
       "  'id': 'call_ZD6L5LWCWGWb5d7JjhMz3rYC',\n",
       "  'type': 'tool_call'}]"
      ]
     },
     "execution_count": 31,
     "metadata": {},
     "output_type": "execute_result"
    }
   ],
   "source": [
    "ai_msg.tool_calls"
   ]
  },
  {
   "cell_type": "code",
   "execution_count": 32,
   "id": "35a3ad18",
   "metadata": {},
   "outputs": [
    {
     "name": "stdout",
     "output_type": "stream",
     "text": [
      "[ToolMessage(content='{\"query\": \"wine pairing with steak\", \"follow_up_questions\": null, \"answer\": null, \"images\": [], \"results\": [{\"title\": \"The Handy Guide to Wine and Steak Pairing\", \"url\": \"https://winefolly.com/wine-pairing/the-handy-guide-to-wine-and-steak-pairing/\", \"content\": \"The Handy Guide to Wine and Steak Pairing | Wine Folly The Handy Guide to Wine and Steak Pairing With so many different cuts and ways to prepare a steak, you can discover a few go-to dry red wines or you can dive deep into pairing nuance. The rule of thumb when pairing with steak is to choose dry red wines – leaner cuts of meat pair with lighter wines, while richer, fattier cuts pair up with high tannin wines that can cut through the fat. Why they work: The Strip is flavorful and a thicker grain cut of beef, making it useful for several different methods of cooking, but it needs a wine that can complement the flavor AND cut through the fat.\", \"score\": 0.92763275, \"raw_content\": null}, {\"title\": \"A Starter Guide to Wine and Steak Pairing\", \"url\": \"https://www.wineenthusiast.com/basics/how-to-pair/wine-and-steak-pairing/\", \"content\": \"Best Rosé Wine for Steak. When it comes to pouring a pink-hued wine with a fatty steak, Dunson suggests opting for Champagne. \\\\\"The effervescence cuts the fat and also refreshes the palate, while the red and citrus fruit match the intensity of the beef flavors,\\\\\" he says \\\\\"The yeasty bread component gives complexity and complementary flavors.\", \"score\": 0.9061314, \"raw_content\": null}], \"response_time\": 0.96}', name='tavily_search', tool_call_id='call_ZD6L5LWCWGWb5d7JjhMz3rYC')]\n",
      "----------------------------------------------------------------------------------------------------\n",
      "('{\"query\": \"wine pairing with steak\", \"follow_up_questions\": null, \"answer\": '\n",
      " 'null, \"images\": [], \"results\": [{\"title\": \"The Handy Guide to Wine and Steak '\n",
      " 'Pairing\", \"url\": '\n",
      " '\"https://winefolly.com/wine-pairing/the-handy-guide-to-wine-and-steak-pairing/\", '\n",
      " '\"content\": \"The Handy Guide to Wine and Steak Pairing | Wine Folly The Handy '\n",
      " 'Guide to Wine and Steak Pairing With so many different cuts and ways to '\n",
      " 'prepare a steak, you can discover a few go-to dry red wines or you can dive '\n",
      " 'deep into pairing nuance. The rule of thumb when pairing with steak is to '\n",
      " 'choose dry red wines – leaner cuts of meat pair with lighter wines, while '\n",
      " 'richer, fattier cuts pair up with high tannin wines that can cut through the '\n",
      " 'fat. Why they work: The Strip is flavorful and a thicker grain cut of beef, '\n",
      " 'making it useful for several different methods of cooking, but it needs a '\n",
      " 'wine that can complement the flavor AND cut through the fat.\", \"score\": '\n",
      " '0.92763275, \"raw_content\": null}, {\"title\": \"A Starter Guide to Wine and '\n",
      " 'Steak Pairing\", \"url\": '\n",
      " '\"https://www.wineenthusiast.com/basics/how-to-pair/wine-and-steak-pairing/\", '\n",
      " '\"content\": \"Best Rosé Wine for Steak. When it comes to pouring a pink-hued '\n",
      " 'wine with a fatty steak, Dunson suggests opting for Champagne. \\\\\"The '\n",
      " 'effervescence cuts the fat and also refreshes the palate, while the red and '\n",
      " 'citrus fruit match the intensity of the beef flavors,\\\\\" he says \\\\\"The '\n",
      " 'yeasty bread component gives complexity and complementary flavors.\", '\n",
      " '\"score\": 0.9061314, \"raw_content\": null}], \"response_time\": 0.96}')\n"
     ]
    }
   ],
   "source": [
    "# batch 실행 - 도구 호출이 여러 개인 경우\n",
    "\n",
    "# tool_messages = web_search.batch([tool_call])\n",
    "\n",
    "tool_messages = web_search.batch(ai_msg.tool_calls)\n",
    "\n",
    "print(tool_messages)\n",
    "print(\"-\" * 100)\n",
    "pprint(tool_messages[0].content)"
   ]
  },
  {
   "cell_type": "markdown",
   "id": "a20257ba",
   "metadata": {},
   "source": [
    "`(4) ToolMessage를 LLM에 전달하여 답변을 생성하기`\n",
    "\n",
    "* 파라미터 이름이 config여야 하는 이유: @chain 데코레이터가 config라는 이름만 특별히 인식하도록 설계되었습니다.\n",
    "* config 생략 가능한 이유: @chain이 자동으로 기본 RunnableConfig()를 생성해서 전달하기 때문입니다."
   ]
  },
  {
   "cell_type": "code",
   "execution_count": 33,
   "id": "1c5de654",
   "metadata": {},
   "outputs": [
    {
     "name": "stdout",
     "output_type": "stream",
     "text": [
      "ai_msg: \n",
      " content='' additional_kwargs={'tool_calls': [{'id': 'call_zA8R3kFNFp4a42Cq08crmUcd', 'function': {'arguments': '{\"query\":\"스테이크 와인 추천\"}', 'name': 'tavily_search_results_json'}, 'type': 'function'}], 'refusal': None} response_metadata={'token_usage': {'completion_tokens': 23, 'prompt_tokens': 109, 'total_tokens': 132, 'completion_tokens_details': {'accepted_prediction_tokens': 0, 'audio_tokens': 0, 'reasoning_tokens': 0, 'rejected_prediction_tokens': 0}, 'prompt_tokens_details': {'audio_tokens': 0, 'cached_tokens': 0}}, 'model_name': 'gpt-4o-mini-2024-07-18', 'system_fingerprint': 'fp_34a54ae93c', 'id': 'chatcmpl-BiwmareKmv9GzGOnbnuikoCnywqZG', 'service_tier': 'default', 'finish_reason': 'tool_calls', 'logprobs': None} id='run--2b03d356-1970-4620-af54-92c2072aef7d-0' tool_calls=[{'name': 'tavily_search_results_json', 'args': {'query': '스테이크 와인 추천'}, 'id': 'call_zA8R3kFNFp4a42Cq08crmUcd', 'type': 'tool_call'}] usage_metadata={'input_tokens': 109, 'output_tokens': 23, 'total_tokens': 132, 'input_token_details': {'audio': 0, 'cache_read': 0}, 'output_token_details': {'audio': 0, 'reasoning': 0}}\n",
      "----------------------------------------------------------------------------------------------------\n",
      "tool_msgs: \n",
      " [ToolMessage(content='[{\"title\": \"스테이크와 찰떡궁합! 스테이크에 어울리는 와인 5가지 - 술의 모든 것\", \"url\": \"https://alcohol.hobby-tech.com/entry/%EC%8A%A4%ED%85%8C%EC%9D%B4%ED%81%AC%EC%99%80-%EC%B0%B0%EB%96%A1%EA%B6%81%ED%95%A9-%EC%8A%A4%ED%85%8C%EC%9D%B4%ED%81%AC%EC%97%90-%EC%96%B4%EC%9A%B8%EB%A6%AC%EB%8A%94-%EC%99%80%EC%9D%B8-5%EA%B0%80%EC%A7%80\", \"content\": \"1. 카베르네 소비뇽 (Cabernet Sauvignon) – 스테이크 와인의 대표주자\\\\n------------------------------------------------\\\\n\\\\n![Image 3](https://blog.kakaocdn.net/dn/xWKr4/btsL30NJ5Zo/7JzT5nGQ6CXB4sTxlpdxf1/img.png)![Image 4](https://blog.kakaocdn.net/dn/R0nXK/btsL4WXUW0Y/eQYYP6Pj1WKewJVFnM5ycK/img.png)\\\\n\\\\n**추천 이유:**\\\\n\\\\n카베르네 소비뇽은 강한 탄닌과 풍부한 바디감이 특징인 레드 와인입니다. 이는 스테이크의 기름진 육즙과 균형을 이루며, 고기의 감칠맛을 더욱 살려줍니다.\\\\n\\\\n**어울리는 스테이크:**\\\\n\\\\n*   리브아이 스테이크\\\\n*   뉴욕 스트립\\\\n*   티본 스테이크\\\\n\\\\n**추천 와인:**\\\\n\\\\n*   나파 밸리 카베르네 소비뇽\\\\n*   샤또 마고 (Château Margaux) [...] ![Image 10](https://blog.kakaocdn.net/dn/dnoiCg/btsL5OybTaE/91vDmwi70ApQ1FZK6DFRQ0/img.png)![Image 11](https://blog.kakaocdn.net/dn/bX2dCB/btsL48cPEez/PDKprxC9mea7bnWY9Y65bk/img.webp)![Image 12](https://blog.kakaocdn.net/dn/bsBLqB/btsL3qswgyp/rmmMrpesqBZSmy2jGjbzd0/img.png)\\\\n\\\\n**추천 이유:**\\\\n\\\\n메를로는 탄닌이 상대적으로 적고 부드러운 질감을 가지고 있어 **고기의 풍미를 자연스럽게 살려주는 와인**입니다. 무겁지 않으면서도 적절한 바디감을 가지고 있어 누구나 부담 없이 즐길 수 있습니다.\\\\n\\\\n**어울리는 스테이크:**\\\\n\\\\n*   등심 스테이크\\\\n*   미디엄 레어 스테이크\\\\n\\\\n**추천 와인:**\\\\n\\\\n*   보르도 우안 (생테밀리옹, 뽀므롤)\\\\n*   캘리포니아 메를로 [...] 말벡은 블랙베리와 자두 같은 과일향이 강하면서도 탄닌이 부드러운 레드 와인입니다. 고기와 함께 마시면 풍미가 더욱 살아나면서 균형 잡힌 조화를 이룹니다.\\\\n\\\\n**어울리는 스테이크:**\\\\n\\\\n*   안심 스테이크 (필레 미뇽)\\\\n*   티본 스테이크\\\\n\\\\n**추천 와인:**\\\\n\\\\n*   아르헨티나 멘도사 말벡\\\\n*   카호르 말벡 (프랑스)\\\\n\\\\n특히 **부드러운 안심 스테이크와 함께 즐기면 와인의 깊은 과일향과 육즙이 환상적인 조화를 이룹니다.**\\\\n\\\\n* * *\\\\n\\\\n4. 메를로 (Merlot) – 부드럽고 균형 잡힌 와인\\\\n-------------------------------\", \"score\": 0.9161773}, {\"title\": \"등심 스테이크에는 이 와인 드셔보세요! 소고기 부위별 레드와인 추천 ...\", \"url\": \"https://m.blog.naver.com/wineislikeacat/223096696241\", \"content\": \"중간에서 높음 사이의 적당한 탄닌과 산도를 가진 와인을 선택하면\\\\n\\\\n씹는 맛의 긴 여운 속 느끼함을 잡아줄 수 있습니다.\\\\n\\\\n\\u200b\\\\n\\\\n이에 맞는 레드와인으로는\\\\n\\\\n카베르네 소비뇽(Carbernet Sauvignon), 시라(Syrah) 품종을 추천드려요!\\\\n\\\\n\\u200b\\\\n\\\\n![Image 7](https://mblogthumb-phinf.pstatic.net/MjAyMzA1MDhfMTEw/MDAxNjgzNTQ1MDQ3NDI0.v4ZHSvlETicMdag0DaoWGFsrTMFezoiZD_41J0Htwhsg.mPiLhr9soLZMXEOb_GJatpnqVUUNFZkrcmQRn9omaewg.JPEG.wineislikeacat/clark-douglas-7WJV-SDSj6c-unsplash.jpg?type=w80_blur)\\\\n\\\\n안심 스테이크와 어울리는 와인\\\\n\\\\n> **안심 스테이크와 어울리는 와인 품종은? 산지오베제!**\\\\n\\\\n고기 본연의 맛을 즐기기 가장 좋은 부위로 꼽히는 안심은\", \"score\": 0.8473754}]', name='tavily_search_results_json', tool_call_id='call_zA8R3kFNFp4a42Cq08crmUcd', artifact={'query': '스테이크 와인 추천', 'follow_up_questions': None, 'answer': None, 'images': [], 'results': [{'url': 'https://alcohol.hobby-tech.com/entry/%EC%8A%A4%ED%85%8C%EC%9D%B4%ED%81%AC%EC%99%80-%EC%B0%B0%EB%96%A1%EA%B6%81%ED%95%A9-%EC%8A%A4%ED%85%8C%EC%9D%B4%ED%81%AC%EC%97%90-%EC%96%B4%EC%9A%B8%EB%A6%AC%EB%8A%94-%EC%99%80%EC%9D%B8-5%EA%B0%80%EC%A7%80', 'title': '스테이크와 찰떡궁합! 스테이크에 어울리는 와인 5가지 - 술의 모든 것', 'content': '1. 카베르네 소비뇽 (Cabernet Sauvignon) – 스테이크 와인의 대표주자\\n------------------------------------------------\\n\\n![Image 3](https://blog.kakaocdn.net/dn/xWKr4/btsL30NJ5Zo/7JzT5nGQ6CXB4sTxlpdxf1/img.png)![Image 4](https://blog.kakaocdn.net/dn/R0nXK/btsL4WXUW0Y/eQYYP6Pj1WKewJVFnM5ycK/img.png)\\n\\n**추천 이유:**\\n\\n카베르네 소비뇽은 강한 탄닌과 풍부한 바디감이 특징인 레드 와인입니다. 이는 스테이크의 기름진 육즙과 균형을 이루며, 고기의 감칠맛을 더욱 살려줍니다.\\n\\n**어울리는 스테이크:**\\n\\n*   리브아이 스테이크\\n*   뉴욕 스트립\\n*   티본 스테이크\\n\\n**추천 와인:**\\n\\n*   나파 밸리 카베르네 소비뇽\\n*   샤또 마고 (Château Margaux) [...] ![Image 10](https://blog.kakaocdn.net/dn/dnoiCg/btsL5OybTaE/91vDmwi70ApQ1FZK6DFRQ0/img.png)![Image 11](https://blog.kakaocdn.net/dn/bX2dCB/btsL48cPEez/PDKprxC9mea7bnWY9Y65bk/img.webp)![Image 12](https://blog.kakaocdn.net/dn/bsBLqB/btsL3qswgyp/rmmMrpesqBZSmy2jGjbzd0/img.png)\\n\\n**추천 이유:**\\n\\n메를로는 탄닌이 상대적으로 적고 부드러운 질감을 가지고 있어 **고기의 풍미를 자연스럽게 살려주는 와인**입니다. 무겁지 않으면서도 적절한 바디감을 가지고 있어 누구나 부담 없이 즐길 수 있습니다.\\n\\n**어울리는 스테이크:**\\n\\n*   등심 스테이크\\n*   미디엄 레어 스테이크\\n\\n**추천 와인:**\\n\\n*   보르도 우안 (생테밀리옹, 뽀므롤)\\n*   캘리포니아 메를로 [...] 말벡은 블랙베리와 자두 같은 과일향이 강하면서도 탄닌이 부드러운 레드 와인입니다. 고기와 함께 마시면 풍미가 더욱 살아나면서 균형 잡힌 조화를 이룹니다.\\n\\n**어울리는 스테이크:**\\n\\n*   안심 스테이크 (필레 미뇽)\\n*   티본 스테이크\\n\\n**추천 와인:**\\n\\n*   아르헨티나 멘도사 말벡\\n*   카호르 말벡 (프랑스)\\n\\n특히 **부드러운 안심 스테이크와 함께 즐기면 와인의 깊은 과일향과 육즙이 환상적인 조화를 이룹니다.**\\n\\n* * *\\n\\n4. 메를로 (Merlot) – 부드럽고 균형 잡힌 와인\\n-------------------------------', 'score': 0.9161773, 'raw_content': None}, {'url': 'https://m.blog.naver.com/wineislikeacat/223096696241', 'title': '등심 스테이크에는 이 와인 드셔보세요! 소고기 부위별 레드와인 추천 ...', 'content': '중간에서 높음 사이의 적당한 탄닌과 산도를 가진 와인을 선택하면\\n\\n씹는 맛의 긴 여운 속 느끼함을 잡아줄 수 있습니다.\\n\\n\\u200b\\n\\n이에 맞는 레드와인으로는\\n\\n카베르네 소비뇽(Carbernet Sauvignon), 시라(Syrah) 품종을 추천드려요!\\n\\n\\u200b\\n\\n![Image 7](https://mblogthumb-phinf.pstatic.net/MjAyMzA1MDhfMTEw/MDAxNjgzNTQ1MDQ3NDI0.v4ZHSvlETicMdag0DaoWGFsrTMFezoiZD_41J0Htwhsg.mPiLhr9soLZMXEOb_GJatpnqVUUNFZkrcmQRn9omaewg.JPEG.wineislikeacat/clark-douglas-7WJV-SDSj6c-unsplash.jpg?type=w80_blur)\\n\\n안심 스테이크와 어울리는 와인\\n\\n> **안심 스테이크와 어울리는 와인 품종은? 산지오베제!**\\n\\n고기 본연의 맛을 즐기기 가장 좋은 부위로 꼽히는 안심은', 'score': 0.8473754, 'raw_content': None}], 'response_time': 1.72})]\n",
      "----------------------------------------------------------------------------------------------------\n",
      "('스테이크와 잘 어울리는 와인 몇 가지를 추천드립니다:\\n'\n",
      " '\\n'\n",
      " '1. **카베르네 소비뇽 (Cabernet Sauvignon)**  \\n'\n",
      " '   - **설명**: 강한 탄닌과 풍부한 바디감을 지닌 레드 와인으로, 스테이크의 기름진 육즙과 잘 어울립니다.  \\n'\n",
      " '   - **어울리는 스테이크**: 리브아이, 뉴욕 스트립, 티본 스테이크  \\n'\n",
      " '   - **추천 와인**: 나파 밸리 카베르네 소비뇽, 샤또 마고 (Château Margaux)\\n'\n",
      " '\\n'\n",
      " '2. **메를로 (Merlot)**  \\n'\n",
      " '   - **설명**: 부드럽고 균형 잡힌 질감을 가진 와인으로, 고기의 풍미를 자연스럽게 살려줍니다.  \\n'\n",
      " '   - **어울리는 스테이크**: 등심 스테이크, 미디엄 레어 스테이크  \\n'\n",
      " '   - **추천 와인**: 보르도 우안, 캘리포니아 메를로\\n'\n",
      " '\\n'\n",
      " '3. **말벡 (Malbec)**  \\n'\n",
      " '   - **설명**: 블랙베리와 자두와 같은 과일향이 강하면서도 부드러운 탄닌을 지닌 와인입니다.  \\n'\n",
      " '   - **어울리는 스테이크**: 안심 스테이크 (필레 미뇽), 티본 스테이크  \\n'\n",
      " '   - **추천 와인**: 아르헨티나 멘도사 말벡, 카호르 말벡 (프랑스)\\n'\n",
      " '\\n'\n",
      " '웰링턴 스테이크와 같은 고급스러운 스테이크와 함께 즐기시면 더욱 좋은 조화를 이룹니다. 와인의 깊은 과일향과 고기의 육즙이 만나 환상적인 '\n",
      " '경험을 제공합니다. \\n'\n",
      " '\\n'\n",
      " '더 자세한 사항은 '\n",
      " '[여기](https://alcohol.hobby-tech.com/entry/%EC%8A%A4%ED%85%8C%EC%9D%B4%ED%81%AC%EC%99%80-%EC%B0%B0%EB%96%A1%EA%B6%81%ED%95%A9-%EC%8A%A4%ED%85%8C%EC%9D%B4%ED%81%AC%EC%97%90-%EC%96%B4%EC%9A%B8%EB%A6%AC%EB%8A%94-%EC%99%80%EC%9D%B8-5%EA%B0%80%EC%A7%80)에서 '\n",
      " '확인하실 수 있습니다.')\n"
     ]
    }
   ],
   "source": [
    "from datetime import datetime\n",
    "from langchain_core.prompts import ChatPromptTemplate\n",
    "from langchain_core.runnables import RunnableConfig, chain\n",
    "\n",
    "# 오늘 날짜 설정\n",
    "today = datetime.today().strftime(\"%Y-%m-%d\")\n",
    "\n",
    "# 프롬프트 템플릿 \n",
    "prompt = ChatPromptTemplate([\n",
    "    (\"system\", f\"You are a helpful AI assistant. Today's date is {today}.\"),\n",
    "    (\"human\", \"{user_input}\"),\n",
    "    (\"placeholder\", \"{messages}\"),\n",
    "])\n",
    "\n",
    "# ChatOpenAI 모델 초기화 \n",
    "llm = ChatOpenAI(model=\"gpt-4o-mini\")\n",
    "\n",
    "# Tavily 검색 도구 초기화 (최대 2개의 결과 반환)\n",
    "tavily_tool = TavilySearchResults(max_results=2)\n",
    "\n",
    "# LLM에 도구를 바인딩\n",
    "llm_with_tools = llm.bind_tools(tools=[tavily_tool])\n",
    "\n",
    "# LLM 체인 생성\n",
    "llm_chain = prompt | llm_with_tools\n",
    "\n",
    "# 도구 실행 체인 정의\n",
    "@chain\n",
    "def web_search_chain(user_input: str, config: RunnableConfig):\n",
    "    input_ = {\"user_input\": user_input}\n",
    "    ai_msg = llm_chain.invoke(input_, config=config)\n",
    "    print(\"ai_msg: \\n\", ai_msg)\n",
    "    print(\"-\"*100)\n",
    "\n",
    "    tool_msgs = tavily_tool.batch(ai_msg.tool_calls, config=config)\n",
    "    print(\"tool_msgs: \\n\", tool_msgs)\n",
    "    \n",
    "    print(\"-\"*100)\n",
    "    return llm_chain.invoke({**input_, \"messages\": [ai_msg, *tool_msgs]}, config=config)\n",
    "\n",
    "# 체인 실행\n",
    "query = \"스테이크와 어울리는 와인을 추천해주세요.\"\n",
    "response = web_search_chain.invoke(query)\n",
    "\n",
    "# 응답 출력 \n",
    "pprint(response.content)"
   ]
  },
  {
   "cell_type": "markdown",
   "id": "60f49a9f",
   "metadata": {},
   "source": [
    "### 2-2. 사용자 정의 도구\n",
    "- @tool decorator를 통해 사용자 정의 도구를 정의할 수 있음"
   ]
  },
  {
   "cell_type": "markdown",
   "id": "5c058ff5",
   "metadata": {},
   "source": [
    "`(1) 도구(tool) 정의하기`"
   ]
  },
  {
   "cell_type": "code",
   "execution_count": 34,
   "id": "2647393d",
   "metadata": {},
   "outputs": [],
   "source": [
    "from langchain_community.tools import TavilySearchResults\n",
    "from langchain_core.tools import tool\n",
    "\n",
    "# Tool 정의 \n",
    "@tool\n",
    "def tavily_search_func(query: str) -> str:\n",
    "    \"\"\"Searches the internet for information that does not exist in the database or for the latest information.\"\"\"\n",
    "\n",
    "    tavily_search = TavilySearchResults(max_results=2)\n",
    "    docs = tavily_search.invoke(query)\n",
    "\n",
    "    formatted_docs = \"\\n---\\n\".join([\n",
    "        f'<Document href=\"{doc[\"url\"]}\"/>\\n{doc[\"content\"]}\\n</Document>'\n",
    "        for doc in docs\n",
    "        ])\n",
    "\n",
    "    if len(formatted_docs) > 0:\n",
    "        return formatted_docs\n",
    "    \n",
    "    return \"관련 정보를 찾을 수 없습니다.\""
   ]
  },
  {
   "cell_type": "markdown",
   "id": "7b2d5144",
   "metadata": {},
   "source": [
    "### 2-3. Runnable 객체를 도구(tool) 변환\n",
    "- 문자열이나 dict 입력을 받는 Runnable을 도구로 변환\n",
    "- as_tool 메서드를 사용\n",
    "\n",
    "- wikipedia 설치\n",
    "```\n",
    "    poetry add wikipedia\n",
    "```\n",
    "- [WikipediaLoader](https://python.langchain.com/api_reference/community/document_loaders/langchain_community.document_loaders.wikipedia.WikipediaLoader.html) 사용\n"
   ]
  },
  {
   "cell_type": "code",
   "execution_count": 35,
   "id": "933f7aa5",
   "metadata": {},
   "outputs": [],
   "source": [
    "from langchain_community.document_loaders import WikipediaLoader\n",
    "from langchain_core.documents import Document\n",
    "from langchain_core.runnables import RunnableLambda\n",
    "from pydantic import BaseModel, Field\n",
    "from typing import List\n",
    "\n",
    "# WikipediaLoader를 사용하여 위키피디아 문서를 검색하는 함수 \n",
    "def search_wiki(input_data: dict) -> List[Document]:\n",
    "    \"\"\"Search Wikipedia documents based on user input (query) and return k documents\"\"\"\n",
    "    query = input_data[\"query\"]\n",
    "    k = input_data.get(\"k\", 2)  \n",
    "    wiki_loader = WikipediaLoader(query=query, load_max_docs=k, lang=\"ko\")\n",
    "    wiki_docs = wiki_loader.load()\n",
    "    return wiki_docs\n",
    "\n",
    "# 도구 호출에 사용할 입력 스키마 정의 \n",
    "class WikiSearchSchema(BaseModel):\n",
    "    \"\"\"Input schema for Wikipedia search.\"\"\"\n",
    "    query: str = Field(..., description=\"The query to search for in Wikipedia\")\n",
    "    k: int = Field(2, description=\"The number of documents to return (default is 2)\")\n",
    "\n",
    "# RunnableLambda 함수를 사용하여 위키피디아 문서 로더를 Runnable로 변환 \n",
    "runnable = RunnableLambda(search_wiki)\n",
    "wiki_search = runnable.as_tool(\n",
    "    name=\"wiki_search\",\n",
    "    description=dedent(\"\"\"\n",
    "        Use this tool when you need to search for information on Wikipedia.\n",
    "        It searches for Wikipedia articles related to the user's query and returns\n",
    "        a specified number of documents. This tool is useful when general knowledge\n",
    "        or background information is required.\n",
    "    \"\"\"),\n",
    "    args_schema=WikiSearchSchema\n",
    ")"
   ]
  },
  {
   "cell_type": "code",
   "execution_count": 36,
   "id": "ff26347a",
   "metadata": {},
   "outputs": [
    {
     "name": "stdout",
     "output_type": "stream",
     "text": [
      "자료형: \n",
      "<class 'langchain_core.tools.structured.StructuredTool'>\n",
      "----------------------------------------------------------------------------------------------------\n",
      "name: \n",
      "wiki_search\n",
      "----------------------------------------------------------------------------------------------------\n",
      "description: \n",
      "('Use this tool when you need to search for information on Wikipedia.\\n'\n",
      " \"It searches for Wikipedia articles related to the user's query and returns\\n\"\n",
      " 'a specified number of documents. This tool is useful when general knowledge\\n'\n",
      " 'or background information is required.')\n",
      "----------------------------------------------------------------------------------------------------\n",
      "schema: \n",
      "{'description': 'Input schema for Wikipedia search.',\n",
      " 'properties': {'k': {'default': 2,\n",
      "                      'description': 'The number of documents to return '\n",
      "                                     '(default is 2)',\n",
      "                      'title': 'K',\n",
      "                      'type': 'integer'},\n",
      "                'query': {'description': 'The query to search for in Wikipedia',\n",
      "                          'title': 'Query',\n",
      "                          'type': 'string'}},\n",
      " 'required': ['query'],\n",
      " 'title': 'WikiSearchSchema',\n",
      " 'type': 'object'}\n",
      "----------------------------------------------------------------------------------------------------\n"
     ]
    }
   ],
   "source": [
    "# 도구 속성\n",
    "print(\"자료형: \")\n",
    "print(type(wiki_search))\n",
    "print(\"-\"*100)\n",
    "\n",
    "print(\"name: \")\n",
    "print(wiki_search.name)\n",
    "print(\"-\"*100)\n",
    "\n",
    "print(\"description: \")\n",
    "pprint(wiki_search.description)\n",
    "print(\"-\"*100)\n",
    "\n",
    "print(\"schema: \")\n",
    "pprint(wiki_search.args_schema.schema())\n",
    "print(\"-\"*100)"
   ]
  },
  {
   "cell_type": "code",
   "execution_count": 37,
   "id": "ed7ff3c4",
   "metadata": {},
   "outputs": [
    {
     "name": "stdout",
     "output_type": "stream",
     "text": [
      "page_content='투움바 파스타(영어: Toowoomba pasta)는 미국의 파스타 요리이며,\n",
      "이름은 오스트레일리아의 도시인 터움바에서 유래되었다.\n",
      "\n",
      "\n",
      "== 역사 ==\n",
      "미국 아웃백 스테이크하우스의 메뉴로 만들어졌으나, 미국에서는 단종되었으며 한국과 브라질 등지에서는 메뉴로 남아 있다. 특히 한국에서 크게 인기를 얻었으며, 한국 매체나 유튜버에 의해 세계에 알려지면서 한국 요리로 소개되거나 외국의 한국 음식점에서 판매되기도 한다.\n",
      "\n",
      "\n",
      "== 만들기 ==\n",
      "페투치네 등 두꺼운 파스타에 고춧가루를 넣어 매콤한 크림 소스를 추가한 음식이다.\n",
      "\n",
      "\n",
      "== 활용 ==\n",
      "투움바 소스를 활용한 음식으로 투움바 떡볶이, 투움바 라면, 투움바 치킨 등이 있다.\n",
      "\n",
      "\n",
      "== 같이 보기 ==\n",
      "아라비아타\n",
      "\n",
      "\n",
      "== 각주 ==' metadata={'title': '투움바 파스타', 'summary': '투움바 파스타(영어: Toowoomba pasta)는 미국의 파스타 요리이며,\\n이름은 오스트레일리아의 도시인 터움바에서 유래되었다.', 'source': 'https://ko.wikipedia.org/wiki/%ED%88%AC%EC%9B%80%EB%B0%94_%ED%8C%8C%EC%8A%A4%ED%83%80'}\n",
      "----------------------------------------------------------------------------------------------------\n",
      "page_content='피치(이탈리아어: pici, 단수: picio 피초[*])는 이탈리아의 파스타이다. 손으로 말아서 만드는 굵은 파스타의 일종으로 스파게티면이 좀 더 굵어진 것으로 보면 된다. 토스카나주의 시에나 현에서 유래했으며 몬탈치노 지역에서는 pinci라고 부른다.\n",
      "반죽은 보통 밀가루나 물로만 만든다. 달걀을 첨가하는 것은 선택적이며 가정에 따라 다르다.\n",
      "밀가루 반죽을 두껍고 평평하게 밀어서 편 다음 기다란 조각으로 잘라낸다. 잘라낸 조각을 두 손바닥 사이에서 말기도 하고 테이블 위에 놓고 테이블과 손바닥 사이에서 말기도 한다. 보통 연필보다 조금 더 가는 굵기로 만든다. 스파게티나 마카로니와 달리 이 파스타는 크기가 정해진 바가 없으며 길이에 따라 그 굵기도 달라진다.\n",
      "먹는 경우는 여러 가지가 있지만 보통 다음 재료들을 육수나 주요 재료로 하여 요리로 만들어 먹는다.\n",
      "\n",
      "\n",
      "== 각주 ==' metadata={'title': '피치 (파스타)', 'summary': '피치(이탈리아어: pici, 단수: picio 피초[*])는 이탈리아의 파스타이다. 손으로 말아서 만드는 굵은 파스타의 일종으로 스파게티면이 좀 더 굵어진 것으로 보면 된다. 토스카나주의 시에나 현에서 유래했으며 몬탈치노 지역에서는 pinci라고 부른다.\\n반죽은 보통 밀가루나 물로만 만든다. 달걀을 첨가하는 것은 선택적이며 가정에 따라 다르다.\\n밀가루 반죽을 두껍고 평평하게 밀어서 편 다음 기다란 조각으로 잘라낸다. 잘라낸 조각을 두 손바닥 사이에서 말기도 하고 테이블 위에 놓고 테이블과 손바닥 사이에서 말기도 한다. 보통 연필보다 조금 더 가는 굵기로 만든다. 스파게티나 마카로니와 달리 이 파스타는 크기가 정해진 바가 없으며 길이에 따라 그 굵기도 달라진다.\\n먹는 경우는 여러 가지가 있지만 보통 다음 재료들을 육수나 주요 재료로 하여 요리로 만들어 먹는다.', 'source': 'https://ko.wikipedia.org/wiki/%ED%94%BC%EC%B9%98_(%ED%8C%8C%EC%8A%A4%ED%83%80)'}\n",
      "----------------------------------------------------------------------------------------------------\n"
     ]
    }
   ],
   "source": [
    "# 위키 검색 실행\n",
    "query = \"파스타의 유래\"\n",
    "wiki_results = wiki_search.invoke({\"query\":query})\n",
    "\n",
    "# 검색 결과 출력\n",
    "for result in wiki_results:\n",
    "    print(result)  \n",
    "    print(\"-\" * 100)  "
   ]
  },
  {
   "cell_type": "code",
   "execution_count": 38,
   "id": "1b812a0a",
   "metadata": {},
   "outputs": [
    {
     "name": "stdout",
     "output_type": "stream",
     "text": [
      "AIMessage(content='', additional_kwargs={'tool_calls': [{'id': 'call_bt0izlNodsmBbnQfkF8QtQa2', 'function': {'arguments': '{\"query\": \"서울 강남 파스타 맛집\"}', 'name': 'tavily_search_func'}, 'type': 'function'}, {'id': 'call_W4qlzqvRRJDCiW75oIxw49Cl', 'function': {'arguments': '{\"query\": \"파스타의 유래\"}', 'name': 'wiki_search'}, 'type': 'function'}], 'refusal': None}, response_metadata={'token_usage': {'completion_tokens': 58, 'prompt_tokens': 176, 'total_tokens': 234, 'completion_tokens_details': {'accepted_prediction_tokens': 0, 'audio_tokens': 0, 'reasoning_tokens': 0, 'rejected_prediction_tokens': 0}, 'prompt_tokens_details': {'audio_tokens': 0, 'cached_tokens': 0}}, 'model_name': 'gpt-4o-mini-2024-07-18', 'system_fingerprint': 'fp_34a54ae93c', 'id': 'chatcmpl-Biwmsaz96tviMRDPVw82h4931wsxm', 'service_tier': 'default', 'finish_reason': 'tool_calls', 'logprobs': None}, id='run--0ab4b30f-192e-4d8e-8ed7-ad04e00cb95b-0', tool_calls=[{'name': 'tavily_search_func', 'args': {'query': '서울 강남 파스타 맛집'}, 'id': 'call_bt0izlNodsmBbnQfkF8QtQa2', 'type': 'tool_call'}, {'name': 'wiki_search', 'args': {'query': '파스타의 유래'}, 'id': 'call_W4qlzqvRRJDCiW75oIxw49Cl', 'type': 'tool_call'}], usage_metadata={'input_tokens': 176, 'output_tokens': 58, 'total_tokens': 234, 'input_token_details': {'audio': 0, 'cache_read': 0}, 'output_token_details': {'audio': 0, 'reasoning': 0}})\n",
      "----------------------------------------------------------------------------------------------------\n",
      "''\n",
      "----------------------------------------------------------------------------------------------------\n",
      "[{'args': {'query': '서울 강남 파스타 맛집'},\n",
      "  'id': 'call_bt0izlNodsmBbnQfkF8QtQa2',\n",
      "  'name': 'tavily_search_func',\n",
      "  'type': 'tool_call'},\n",
      " {'args': {'query': '파스타의 유래'},\n",
      "  'id': 'call_W4qlzqvRRJDCiW75oIxw49Cl',\n",
      "  'name': 'wiki_search',\n",
      "  'type': 'tool_call'}]\n",
      "----------------------------------------------------------------------------------------------------\n"
     ]
    }
   ],
   "source": [
    "# LLM에 도구를 바인딩 (2개의 도구 바인딩)\n",
    "llm_with_tools = llm.bind_tools(tools=[tavily_search_func, wiki_search])\n",
    "\n",
    "# 도구 호출이 필요한 LLM 호출을 수행\n",
    "query = \"서울 강남의 유명한 파스타 맛집은 어디인가요? 그리고 파스타의 유래를 알려주세요. \"\n",
    "ai_msg = llm_with_tools.invoke(query)\n",
    "\n",
    "# LLM의 전체 출력 결과 출력\n",
    "pprint(ai_msg)\n",
    "print(\"-\" * 100)\n",
    "\n",
    "# 메시지 content 속성 (텍스트 출력)\n",
    "pprint(ai_msg.content)\n",
    "print(\"-\" * 100)\n",
    "\n",
    "# LLM이 호출한 도구 정보 출력\n",
    "pprint(ai_msg.tool_calls)\n",
    "print(\"-\" * 100)"
   ]
  },
  {
   "cell_type": "markdown",
   "id": "db06d2ed",
   "metadata": {},
   "source": [
    "`(2) LCEL 체인`\n",
    "- 위키피디아 문서를 검색하고 내용을 요약하는 체인"
   ]
  },
  {
   "cell_type": "code",
   "execution_count": 39,
   "id": "4a7ab14a",
   "metadata": {},
   "outputs": [
    {
     "name": "stdout",
     "output_type": "stream",
     "text": [
      "('투움바 파스타는 미국의 파스타 요리로, 오스트레일리아의 투움바에서 유래되었다. 미국 아웃백 스테이크하우스에서 처음 만들어졌으나 현재는 '\n",
      " '한국과 브라질에서 인기를 끌고 있다. 이 요리는 두꺼운 파스타에 매콤한 크림 소스를 추가하여 만든다. 이와 관련된 다양한 요리도 '\n",
      " '존재한다.\\n'\n",
      " '\\n'\n",
      " '이탈리아 요리는 기원전 4세기부터 발전해온 남유럽의 요리로, 지역마다 특색이 다르다. 북부는 쌀과 유제품을, 남부는 올리브와 해산물을 '\n",
      " '주로 사용한다. 이탈리아 요리는 간결함과 재료의 질을 중시하며, CNN에 의해 세계 최고의 요리로 선정된 바 있다. 이 요리는 역사적으로 '\n",
      " '다양한 문화의 영향을 받아 발전해왔으며, 고대 그리스와 로마의 요리법이 포함되어 있다.')\n"
     ]
    }
   ],
   "source": [
    "from langchain_core.prompts import ChatPromptTemplate\n",
    "from langchain_core.output_parsers import StrOutputParser\n",
    "from langchain_core.runnables import RunnableLambda\n",
    "from langchain_community.document_loaders import WikipediaLoader\n",
    "\n",
    "# WikipediaLoader를 사용하여 위키피디아 문서를 검색하고 텍스트로 반환하는 함수 \n",
    "def wiki_search_and_summarize(input_data: dict):\n",
    "    wiki_loader = WikipediaLoader(query=input_data[\"query\"], load_max_docs=2, lang=\"ko\")\n",
    "    wiki_docs = wiki_loader.load()\n",
    "\n",
    "    formatted_docs =[\n",
    "        f'<Document source=\"{doc.metadata[\"source\"]}\"/>\\n{doc.page_content}\\n</Document>'\n",
    "        for doc in wiki_docs\n",
    "        ]\n",
    "    \n",
    "    return formatted_docs\n",
    "\n",
    "# 요약 프롬프트 템플릿\n",
    "summary_prompt = ChatPromptTemplate.from_template(\n",
    "    \"Summarize the following text in a concise manner:\\n\\n{context}\\n\\nSummary:\"\n",
    ")\n",
    "\n",
    "# LLM 및 요약 체인 설정\n",
    "llm = ChatOpenAI(model=\"gpt-4o-mini\", temperature=0)\n",
    "summary_chain = (\n",
    "    {\"context\": RunnableLambda(wiki_search_and_summarize)}\n",
    "    | summary_prompt | llm | StrOutputParser() \n",
    ")\n",
    "\n",
    "# 요약 테스트 \n",
    "summarized_text = summary_chain.invoke({\"query\":\"파스타의 유래\"})\n",
    "pprint(summarized_text)"
   ]
  },
  {
   "cell_type": "code",
   "execution_count": 40,
   "id": "a35ac080",
   "metadata": {},
   "outputs": [
    {
     "name": "stdout",
     "output_type": "stream",
     "text": [
      "자료형: \n",
      "<class 'langchain_core.tools.structured.StructuredTool'>\n",
      "----------------------------------------------------------------------------------------------------\n",
      "name: \n",
      "wiki_summary\n",
      "----------------------------------------------------------------------------------------------------\n",
      "description: \n",
      "('Use this tool when you need to search for information on Wikipedia.\\n'\n",
      " \"It searches for Wikipedia articles related to the user's query and returns\\n\"\n",
      " 'a summarized text. This tool is useful when general knowledge\\n'\n",
      " 'or background information is required.')\n",
      "----------------------------------------------------------------------------------------------------\n",
      "schema: \n",
      "{'description': 'Input schema for Wikipedia search.',\n",
      " 'properties': {'query': {'description': 'The query to search for in Wikipedia',\n",
      "                          'title': 'Query',\n",
      "                          'type': 'string'}},\n",
      " 'required': ['query'],\n",
      " 'title': 'WikiSummarySchema',\n",
      " 'type': 'object'}\n",
      "----------------------------------------------------------------------------------------------------\n"
     ]
    }
   ],
   "source": [
    "# 도구 호출에 사용할 입력 스키마 정의 \n",
    "class WikiSummarySchema(BaseModel):\n",
    "    \"\"\"Input schema for Wikipedia search.\"\"\"\n",
    "    query: str = Field(..., description=\"The query to search for in Wikipedia\")\n",
    "\n",
    "# as_tool 메소드를 사용하여 도구 객체로 변환\n",
    "wiki_summary = summary_chain.as_tool(\n",
    "    name=\"wiki_summary\",\n",
    "    description=dedent(\"\"\"\n",
    "        Use this tool when you need to search for information on Wikipedia.\n",
    "        It searches for Wikipedia articles related to the user's query and returns\n",
    "        a summarized text. This tool is useful when general knowledge\n",
    "        or background information is required.\n",
    "    \"\"\"),\n",
    "    args_schema=WikiSummarySchema\n",
    ")\n",
    "\n",
    "# 도구 속성\n",
    "print(\"자료형: \")\n",
    "print(type(wiki_summary))\n",
    "print(\"-\"*100)\n",
    "\n",
    "print(\"name: \")\n",
    "print(wiki_summary.name)\n",
    "print(\"-\"*100)\n",
    "\n",
    "print(\"description: \")\n",
    "pprint(wiki_summary.description)\n",
    "print(\"-\"*100)\n",
    "\n",
    "print(\"schema: \")\n",
    "pprint(wiki_summary.args_schema.schema())\n",
    "print(\"-\"*100)"
   ]
  },
  {
   "cell_type": "code",
   "execution_count": 41,
   "id": "78824759",
   "metadata": {},
   "outputs": [
    {
     "name": "stdout",
     "output_type": "stream",
     "text": [
      "AIMessage(content='', additional_kwargs={'tool_calls': [{'id': 'call_eg4VJH9Qh4nd9E2qxOrr6kiN', 'function': {'arguments': '{\"query\": \"서울 강남 파스타 맛집\"}', 'name': 'tavily_search_func'}, 'type': 'function'}, {'id': 'call_kTcUgfX72PY5PcJ38vj2Cuwl', 'function': {'arguments': '{\"query\": \"파스타\"}', 'name': 'wiki_summary'}, 'type': 'function'}], 'refusal': None}, response_metadata={'token_usage': {'completion_tokens': 55, 'prompt_tokens': 152, 'total_tokens': 207, 'completion_tokens_details': {'accepted_prediction_tokens': 0, 'audio_tokens': 0, 'reasoning_tokens': 0, 'rejected_prediction_tokens': 0}, 'prompt_tokens_details': {'audio_tokens': 0, 'cached_tokens': 0}}, 'model_name': 'gpt-4o-mini-2024-07-18', 'system_fingerprint': 'fp_62a23a81ef', 'id': 'chatcmpl-Biwn5neBaFlF0Vt334aFzil1yOOdg', 'service_tier': 'default', 'finish_reason': 'tool_calls', 'logprobs': None}, id='run--7d527628-79a7-4f63-be36-d8060ea8a70d-0', tool_calls=[{'name': 'tavily_search_func', 'args': {'query': '서울 강남 파스타 맛집'}, 'id': 'call_eg4VJH9Qh4nd9E2qxOrr6kiN', 'type': 'tool_call'}, {'name': 'wiki_summary', 'args': {'query': '파스타'}, 'id': 'call_kTcUgfX72PY5PcJ38vj2Cuwl', 'type': 'tool_call'}], usage_metadata={'input_tokens': 152, 'output_tokens': 55, 'total_tokens': 207, 'input_token_details': {'audio': 0, 'cache_read': 0}, 'output_token_details': {'audio': 0, 'reasoning': 0}})\n",
      "----------------------------------------------------------------------------------------------------\n",
      "''\n",
      "----------------------------------------------------------------------------------------------------\n",
      "[{'args': {'query': '서울 강남 파스타 맛집'},\n",
      "  'id': 'call_eg4VJH9Qh4nd9E2qxOrr6kiN',\n",
      "  'name': 'tavily_search_func',\n",
      "  'type': 'tool_call'},\n",
      " {'args': {'query': '파스타'},\n",
      "  'id': 'call_kTcUgfX72PY5PcJ38vj2Cuwl',\n",
      "  'name': 'wiki_summary',\n",
      "  'type': 'tool_call'}]\n",
      "----------------------------------------------------------------------------------------------------\n"
     ]
    }
   ],
   "source": [
    "# LLM에 도구를 바인딩\n",
    "llm_with_tools = llm.bind_tools(tools=[tavily_search_func, wiki_summary])\n",
    "\n",
    "# 도구 호출이 필요한 LLM 호출을 수행\n",
    "query = \"서울 강남의 유명한 파스타 맛집은 어디인가요? 그리고 파스타의 유래를 알려주세요. \"\n",
    "ai_msg = llm_with_tools.invoke(query)\n",
    "\n",
    "# LLM의 전체 출력 결과 출력\n",
    "pprint(ai_msg)\n",
    "print(\"-\" * 100)\n",
    "\n",
    "# 메시지 content 속성 (텍스트 출력)\n",
    "pprint(ai_msg.content)\n",
    "print(\"-\" * 100)\n",
    "\n",
    "# LLM이 호출한 도구 정보 출력\n",
    "pprint(ai_msg.tool_calls)\n",
    "print(\"-\" * 100)"
   ]
  },
  {
   "cell_type": "code",
   "execution_count": 42,
   "id": "c87d0b1a",
   "metadata": {},
   "outputs": [
    {
     "data": {
      "text/plain": [
       "{'name': 'wiki_summary',\n",
       " 'args': {'query': '파스타'},\n",
       " 'id': 'call_kTcUgfX72PY5PcJ38vj2Cuwl',\n",
       " 'type': 'tool_call'}"
      ]
     },
     "execution_count": 42,
     "metadata": {},
     "output_type": "execute_result"
    }
   ],
   "source": [
    "ai_msg.tool_calls[1]"
   ]
  },
  {
   "cell_type": "code",
   "execution_count": 43,
   "id": "12cbdd5c",
   "metadata": {},
   "outputs": [
    {
     "name": "stdout",
     "output_type": "stream",
     "text": [
      "content='파스타는 이탈리아의 주요 밀 식품으로, 듀럼밀 세몰라와 물 또는 밀가루와 달걀로 만들어지며, 삶거나 구워서 먹는다. 이탈리아의 국민 음식으로 여겨지며, 역사적으로 그리스와 아랍 문화에서 기원한 것으로 보인다. 파스타는 건파스타와 생파스타로 나뉘며, 다양한 형태와 종류가 있다. 요리 방법으로는 삶거나 오븐에 구워내는 방식이 있으며, 소스와의 조화가 중요하다. 투움바 파스타는 미국의 요리로, 매콤한 크림 소스를 사용하며 한국에서 인기를 끌고 있다.' name='wiki_summary' tool_call_id='call_kTcUgfX72PY5PcJ38vj2Cuwl'\n",
      "----------------------------------------------------------------------------------------------------\n",
      "('파스타는 이탈리아의 주요 밀 식품으로, 듀럼밀 세몰라와 물 또는 밀가루와 달걀로 만들어지며, 삶거나 구워서 먹는다. 이탈리아의 국민 '\n",
      " '음식으로 여겨지며, 역사적으로 그리스와 아랍 문화에서 기원한 것으로 보인다. 파스타는 건파스타와 생파스타로 나뉘며, 다양한 형태와 종류가 '\n",
      " '있다. 요리 방법으로는 삶거나 오븐에 구워내는 방식이 있으며, 소스와의 조화가 중요하다. 투움바 파스타는 미국의 요리로, 매콤한 크림 '\n",
      " '소스를 사용하며 한국에서 인기를 끌고 있다.')\n"
     ]
    }
   ],
   "source": [
    "# 도구 실행 \n",
    "tool_message = wiki_summary.invoke(ai_msg.tool_calls[1])\n",
    "\n",
    "print(tool_message)\n",
    "print(\"-\" * 100)\n",
    "pprint(tool_message.content)"
   ]
  },
  {
   "cell_type": "code",
   "execution_count": 44,
   "id": "2e2de1a6",
   "metadata": {},
   "outputs": [
    {
     "name": "stdout",
     "output_type": "stream",
     "text": [
      "ai_msg: \n",
      " content='' additional_kwargs={'tool_calls': [{'id': 'call_SOZrAaNdOdZfQ7h4QArGmxiO', 'function': {'arguments': '{\"query\":\"파스타의 유래\"}', 'name': 'wiki_summary'}, 'type': 'function'}], 'refusal': None} response_metadata={'token_usage': {'completion_tokens': 19, 'prompt_tokens': 120, 'total_tokens': 139, 'completion_tokens_details': {'accepted_prediction_tokens': 0, 'audio_tokens': 0, 'reasoning_tokens': 0, 'rejected_prediction_tokens': 0}, 'prompt_tokens_details': {'audio_tokens': 0, 'cached_tokens': 0}}, 'model_name': 'gpt-4o-mini-2024-07-18', 'system_fingerprint': 'fp_34a54ae93c', 'id': 'chatcmpl-BiwnGYscqcoJGZoeXpaBkj69EbzbK', 'service_tier': 'default', 'finish_reason': 'tool_calls', 'logprobs': None} id='run--4fcbdb0d-d28b-4634-b31d-76ba36c14afa-0' tool_calls=[{'name': 'wiki_summary', 'args': {'query': '파스타의 유래'}, 'id': 'call_SOZrAaNdOdZfQ7h4QArGmxiO', 'type': 'tool_call'}] usage_metadata={'input_tokens': 120, 'output_tokens': 19, 'total_tokens': 139, 'input_token_details': {'audio': 0, 'cache_read': 0}, 'output_token_details': {'audio': 0, 'reasoning': 0}}\n",
      "----------------------------------------------------------------------------------------------------\n",
      "tool_msgs: \n",
      " [ToolMessage(content='투움바 파스타는 미국의 파스타 요리로, 오스트레일리아의 투움바에서 유래되었다. 미국 아웃백 스테이크하우스에서 처음 만들어졌으나 현재는 한국과 브라질에서 인기를 끌고 있다. 이 요리는 두꺼운 파스타에 매콤한 크림 소스를 추가하여 만든다. 이와 관련된 다양한 요리도 존재한다.\\n\\n이탈리아 요리는 기원전 4세기부터 발전해온 남유럽의 전통 요리로, 지역마다 고유한 특색이 있다. 북부는 쌀과 유제품을, 남부는 올리브와 해산물을 주로 사용한다. 이탈리아 요리는 간결함과 재료의 질을 중시하며, CNN에 의해 세계 최고의 요리로 선정된 바 있다. 이 요리는 역사적으로 다양한 문화의 영향을 받아 발전해왔으며, 여러 유명 요리책이 출판되었다.', name='wiki_summary', tool_call_id='call_SOZrAaNdOdZfQ7h4QArGmxiO')]\n",
      "----------------------------------------------------------------------------------------------------\n",
      "('파스타는 이탈리아 요리의 중요한 요소로, 기원전 4세기부터 발전해온 남유럽의 전통 요리입니다. 이탈리아의 지역마다 고유한 특색이 있으며, '\n",
      " '북부 지역은 쌀과 유제품을, 남부 지역은 올리브와 해산물을 주로 사용합니다. 이탈리아 요리는 간결함과 재료의 질을 중시하며, CNN에 '\n",
      " '의해 세계 최고의 요리로 선정된 바 있습니다.\\n'\n",
      " '\\n'\n",
      " '파스타는 역사적으로 다양한 문화의 영향을 받아 발전해왔으며, 여러 유명 요리책이 출판되었습니다. \\n'\n",
      " '\\n'\n",
      " '또한, 투움바 파스타는 미국의 파스타 요리로, 오스트레일리아의 투움바에서 유래되었습니다. 이 요리는 두꺼운 파스타에 매콤한 크림 소스를 '\n",
      " '추가하여 만들어지며, 현재는 한국과 브라질에서도 인기를 끌고 있습니다.')\n"
     ]
    }
   ],
   "source": [
    "from datetime import datetime\n",
    "from langchain_core.prompts import ChatPromptTemplate\n",
    "from langchain_core.runnables import RunnableConfig, chain\n",
    "\n",
    "# 오늘 날짜 설정\n",
    "today = datetime.today().strftime(\"%Y-%m-%d\")\n",
    "\n",
    "# 프롬프트 템플릿 \n",
    "prompt = ChatPromptTemplate([\n",
    "    (\"system\", f\"You are a helpful AI assistant. Today's date is {today}.\"),\n",
    "    (\"human\", \"{user_input}\"),\n",
    "    (\"placeholder\", \"{messages}\"),\n",
    "])\n",
    "\n",
    "# LLM에 도구를 바인딩\n",
    "llm_with_tools = llm.bind_tools(tools=[wiki_summary])\n",
    "\n",
    "# LLM 체인 생성\n",
    "llm_chain = prompt | llm_with_tools\n",
    "\n",
    "# 도구 실행 체인 정의\n",
    "@chain\n",
    "def wiki_summary_chain(user_input: str, config: RunnableConfig):\n",
    "    input_ = {\"user_input\": user_input}\n",
    "    ai_msg = llm_chain.invoke(input_, config=config)\n",
    "    print(\"ai_msg: \\n\", ai_msg)\n",
    "    print(\"-\"*100)\n",
    "\n",
    "    tool_msgs = wiki_summary.batch(ai_msg.tool_calls, config=config)\n",
    "    print(\"tool_msgs: \\n\", tool_msgs)\n",
    "    print(\"-\"*100)\n",
    "    \n",
    "    return llm_chain.invoke({**input_, \"messages\": [ai_msg, *tool_msgs]}, config=config)\n",
    "\n",
    "# 체인 실행\n",
    "response = wiki_summary_chain.invoke(\"파스타의 유래에 대해서 알려주세요.\")\n",
    "\n",
    "# 응답 출력 \n",
    "pprint(response.content)"
   ]
  },
  {
   "cell_type": "markdown",
   "id": "6f828547",
   "metadata": {},
   "source": [
    "### 2-4. 벡터저장소 검색기\n",
    "- @tool decorator 사용"
   ]
  },
  {
   "cell_type": "markdown",
   "id": "e9a9dc12",
   "metadata": {},
   "source": [
    "`(1) 문서 로드 및 인덱싱`"
   ]
  },
  {
   "cell_type": "code",
   "execution_count": 45,
   "id": "a0da1d76",
   "metadata": {},
   "outputs": [
    {
     "name": "stdout",
     "output_type": "stream",
     "text": [
      "1\n"
     ]
    }
   ],
   "source": [
    "from langchain.document_loaders import TextLoader\n",
    "\n",
    "# 메뉴판 텍스트 데이터를 로드\n",
    "loader = TextLoader(\"./data/restaurant_menu.txt\", encoding=\"utf-8\")\n",
    "documents = loader.load()\n",
    "\n",
    "print(len(documents))"
   ]
  },
  {
   "cell_type": "code",
   "execution_count": 46,
   "id": "5e94154e",
   "metadata": {},
   "outputs": [
    {
     "name": "stdout",
     "output_type": "stream",
     "text": [
      "총 10개의 메뉴 항목이 처리되었습니다.\n",
      "\n",
      "메뉴 번호: 1\n",
      "메뉴 이름: 시그니처 스테이크\n",
      "내용:\n",
      "1. 시그니처 스테이크\n",
      "   • 가격: ₩35,000\n",
      "   • 주요 식재료: 최상급 한우 등심, 로즈메리 감자, 그릴드 아스파라거스\n",
      "   • 설명: 셰프의 특제 시그니처 메뉴로, ...\n",
      "\n",
      "메뉴 번호: 2\n",
      "메뉴 이름: 트러플 리조또\n",
      "내용:\n",
      "2. 트러플 리조또\n",
      "   • 가격: ₩22,000\n",
      "   • 주요 식재료: 이탈리아산 아르보리오 쌀, 블랙 트러플, 파르미지아노 레지아노 치즈\n",
      "   • 설명: 크리미한 텍스처의 리조...\n"
     ]
    }
   ],
   "source": [
    "from langchain_core.documents import Document\n",
    "\n",
    "# 문서 분할 (Chunking)\n",
    "def split_menu_items(document):\n",
    "    \"\"\"\n",
    "    메뉴 항목을 분리하는 함수 \n",
    "    \"\"\"\n",
    "    # 정규표현식 정의 \n",
    "    pattern = r'(\\d+\\.\\s.*?)(?=\\n\\n\\d+\\.|$)'\n",
    "    menu_items = re.findall(pattern, document.page_content, re.DOTALL)\n",
    "    \n",
    "    # 각 메뉴 항목을 Document 객체로 변환\n",
    "    menu_documents = []\n",
    "    for i, item in enumerate(menu_items, 1):\n",
    "        # 메뉴 이름 추출\n",
    "        menu_name = item.split('\\n')[0].split('.', 1)[1].strip()\n",
    "        \n",
    "        # 새로운 Document 객체 생성\n",
    "        menu_doc = Document(\n",
    "            page_content=item.strip(),\n",
    "            metadata={\n",
    "                \"source\": document.metadata['source'],\n",
    "                \"menu_number\": i,\n",
    "                \"menu_name\": menu_name\n",
    "            }\n",
    "        )\n",
    "        menu_documents.append(menu_doc)\n",
    "    \n",
    "    return menu_documents\n",
    "\n",
    "\n",
    "# 메뉴 항목 분리 실행\n",
    "menu_documents = []\n",
    "for doc in documents:\n",
    "    menu_documents += split_menu_items(doc)\n",
    "\n",
    "# 결과 출력\n",
    "print(f\"총 {len(menu_documents)}개의 메뉴 항목이 처리되었습니다.\")\n",
    "for doc in menu_documents[:2]:\n",
    "    print(f\"\\n메뉴 번호: {doc.metadata['menu_number']}\")\n",
    "    print(f\"메뉴 이름: {doc.metadata['menu_name']}\")\n",
    "    print(f\"내용:\\n{doc.page_content[:100]}...\")"
   ]
  },
  {
   "cell_type": "markdown",
   "id": "1a09f288",
   "metadata": {},
   "source": [
    "### Embedding을 하기 위해 Ollama Qwen2.5 설치\n",
    "```\n",
    "ollama run qwen2.5:1.5b\n",
    "\n",
    "ollama ls\n",
    "```"
   ]
  },
  {
   "cell_type": "code",
   "execution_count": 47,
   "id": "8552797f",
   "metadata": {},
   "outputs": [
    {
     "name": "stdout",
     "output_type": "stream",
     "text": [
      "검색 결과: 2개\n",
      "메뉴 번호: 3\n",
      "메뉴 이름: 연어 타르타르\n",
      "\n",
      "메뉴 번호: 1\n",
      "메뉴 이름: 시그니처 스테이크\n",
      "\n"
     ]
    }
   ],
   "source": [
    "from langchain_community.vectorstores import FAISS\n",
    "from langchain_ollama import OllamaEmbeddings\n",
    "\n",
    "embeddings_model = OllamaEmbeddings(model=\"qwen2.5:1.5b\") \n",
    "\n",
    "# FAISS 인덱스 생성\n",
    "menu_db = FAISS.from_documents(\n",
    "    documents=menu_documents, \n",
    "    embedding=embeddings_model\n",
    ")\n",
    "\n",
    "# FAISS 인덱스 저장 (선택사항)\n",
    "menu_db.save_local(\"./db/menu_db\")\n",
    "\n",
    "\n",
    "# Retriever 생성\n",
    "menu_retriever = menu_db.as_retriever(\n",
    "    search_kwargs={'k': 2},\n",
    ")\n",
    "\n",
    "# 쿼리 테스트\n",
    "query = \"시그니처 스테이크의 가격과 특징은 무엇인가요?\"\n",
    "docs = menu_retriever.invoke(query)\n",
    "print(f\"검색 결과: {len(docs)}개\")\n",
    "\n",
    "for doc in docs:\n",
    "    print(f\"메뉴 번호: {doc.metadata['menu_number']}\")\n",
    "    print(f\"메뉴 이름: {doc.metadata['menu_name']}\")\n",
    "    print()"
   ]
  },
  {
   "cell_type": "markdown",
   "id": "9cf58d36",
   "metadata": {},
   "source": [
    "- 와인 메뉴에 대해서도 같은 작업을 처리"
   ]
  },
  {
   "cell_type": "code",
   "execution_count": 48,
   "id": "1dc82b06",
   "metadata": {},
   "outputs": [
    {
     "name": "stdout",
     "output_type": "stream",
     "text": [
      "총 10개의 메뉴 항목이 처리되었습니다.\n",
      "\n",
      "메뉴 번호: 1\n",
      "메뉴 이름: 샤토 마고 2015\n",
      "내용:\n",
      "1. 샤토 마고 2015\n",
      "   • 가격: ₩450,000\n",
      "   • 주요 품종: 카베르네 소비뇽, 메를로, 카베르네 프랑, 쁘띠 베르도\n",
      "   • 설명: 보르도 메독 지역의 프리미엄 ...\n",
      "\n",
      "메뉴 번호: 2\n",
      "메뉴 이름: 돔 페리뇽 2012\n",
      "내용:\n",
      "2. 돔 페리뇽 2012\n",
      "   • 가격: ₩380,000\n",
      "   • 주요 품종: 샤르도네, 피노 누아\n",
      "   • 설명: 프랑스 샴페인의 대명사로 알려진 프레스티지 큐베입니다. 시트러스...\n",
      "검색 결과: 2개\n",
      "메뉴 번호: 10\n",
      "메뉴 이름: 티라미수\n",
      "\n",
      "메뉴 번호: 1\n",
      "메뉴 이름: 시그니처 스테이크\n",
      "\n"
     ]
    }
   ],
   "source": [
    "# 와인 메뉴 텍스트 데이터를 로드\n",
    "loader = TextLoader(\"./data/restaurant_wine.txt\", encoding=\"utf-8\")\n",
    "documents = loader.load()\n",
    "\n",
    "# 메뉴 항목 분리 실행\n",
    "menu_documents = []\n",
    "for doc in documents:\n",
    "    menu_documents += split_menu_items(doc)\n",
    "\n",
    "# 결과 출력\n",
    "print(f\"총 {len(menu_documents)}개의 메뉴 항목이 처리되었습니다.\")\n",
    "for doc in menu_documents[:2]:\n",
    "    print(f\"\\n메뉴 번호: {doc.metadata['menu_number']}\")\n",
    "    print(f\"메뉴 이름: {doc.metadata['menu_name']}\")\n",
    "    print(f\"내용:\\n{doc.page_content[:100]}...\")\n",
    "\n",
    "\n",
    "# FAISS 인덱스 생성\n",
    "wine_db = FAISS.from_documents(\n",
    "    documents=menu_documents, \n",
    "    embedding=embeddings_model\n",
    ")\n",
    "\n",
    "# 병합된 DB 다시 저장\n",
    "wine_db.save_local(\"./db/wine_db\")\n",
    "\n",
    "wine_retriever = menu_db.as_retriever(\n",
    "    search_kwargs={'k': 2},\n",
    ")\n",
    "\n",
    "query = \"스테이크와 어울리는 와인을 추천해주세요.\"\n",
    "docs = wine_retriever.invoke(query)\n",
    "print(f\"검색 결과: {len(docs)}개\")\n",
    "\n",
    "for doc in docs:\n",
    "    print(f\"메뉴 번호: {doc.metadata['menu_number']}\")\n",
    "    print(f\"메뉴 이름: {doc.metadata['menu_name']}\")\n",
    "    print()"
   ]
  },
  {
   "cell_type": "markdown",
   "id": "2040915b",
   "metadata": {},
   "source": [
    "`(2) 도구(tool) 정의하기`"
   ]
  },
  {
   "cell_type": "code",
   "execution_count": 49,
   "id": "93d4c3a5",
   "metadata": {},
   "outputs": [
    {
     "name": "stdout",
     "output_type": "stream",
     "text": [
      "자료형: \n",
      "<class 'langchain_core.tools.structured.StructuredTool'>\n",
      "----------------------------------------------------------------------------------------------------\n",
      "name: \n",
      "db_search_menu_func\n",
      "----------------------------------------------------------------------------------------------------\n",
      "description: \n",
      "('Securely retrieve and access authorized restaurant menu information from the '\n",
      " 'encrypted database.\\n'\n",
      " 'Use this tool only for menu-related queries to maintain data '\n",
      " 'confidentiality.')\n",
      "----------------------------------------------------------------------------------------------------\n",
      "schema: \n",
      "{'description': 'Securely retrieve and access authorized restaurant menu '\n",
      "                'information from the encrypted database.\\n'\n",
      "                'Use this tool only for menu-related queries to maintain data '\n",
      "                'confidentiality.',\n",
      " 'properties': {'query': {'title': 'Query', 'type': 'string'}},\n",
      " 'required': ['query'],\n",
      " 'title': 'db_search_menu_func',\n",
      " 'type': 'object'}\n",
      "----------------------------------------------------------------------------------------------------\n"
     ]
    }
   ],
   "source": [
    "from langchain_core.tools import tool\n",
    "# menu db 벡터 저장소 로드\n",
    "menu_db = FAISS.load_local(\n",
    "    \"./db/menu_db\", \n",
    "    embeddings_model, \n",
    "    allow_dangerous_deserialization=True\n",
    ")\n",
    "\n",
    "@tool\n",
    "def db_search_menu_func(query: str) -> List[Document]:\n",
    "    \"\"\"\n",
    "    Securely retrieve and access authorized restaurant menu information from the encrypted database.\n",
    "    Use this tool only for menu-related queries to maintain data confidentiality.\n",
    "    \"\"\"\n",
    "    docs = menu_db.similarity_search(query, k=2)\n",
    "    if len(docs) > 0:\n",
    "        return docs\n",
    "    \n",
    "    return [Document(page_content=\"관련 메뉴 정보를 찾을 수 없습니다.\")]\n",
    "\n",
    "# 도구 속성\n",
    "print(\"자료형: \")\n",
    "print(type(db_search_menu_func))\n",
    "print(\"-\"*100)\n",
    "\n",
    "print(\"name: \")\n",
    "print(db_search_menu_func.name)\n",
    "print(\"-\"*100)\n",
    "\n",
    "print(\"description: \")\n",
    "pprint(db_search_menu_func.description)\n",
    "print(\"-\"*100)\n",
    "\n",
    "print(\"schema: \")\n",
    "pprint(db_search_menu_func.args_schema.schema())\n",
    "print(\"-\"*100)"
   ]
  },
  {
   "cell_type": "code",
   "execution_count": 50,
   "id": "b8ae1341",
   "metadata": {},
   "outputs": [
    {
     "name": "stdout",
     "output_type": "stream",
     "text": [
      "자료형: \n",
      "<class 'langchain_core.tools.structured.StructuredTool'>\n",
      "----------------------------------------------------------------------------------------------------\n",
      "name: \n",
      "db_search_wine_func\n",
      "----------------------------------------------------------------------------------------------------\n",
      "description: \n",
      "('Securely retrieve and access authorized restaurant wine information from the '\n",
      " 'encrypted database.\\n'\n",
      " 'Use this tool only for wine-related queries to maintain data '\n",
      " 'confidentiality.')\n",
      "----------------------------------------------------------------------------------------------------\n",
      "schema: \n",
      "{'description': 'Securely retrieve and access authorized restaurant wine '\n",
      "                'information from the encrypted database.\\n'\n",
      "                'Use this tool only for wine-related queries to maintain data '\n",
      "                'confidentiality.',\n",
      " 'properties': {'query': {'title': 'Query', 'type': 'string'}},\n",
      " 'required': ['query'],\n",
      " 'title': 'db_search_wine_func',\n",
      " 'type': 'object'}\n",
      "----------------------------------------------------------------------------------------------------\n"
     ]
    }
   ],
   "source": [
    "from langchain_core.tools import tool\n",
    "from typing import List\n",
    "from langchain_core.documents import Document\n",
    "\n",
    "# wine db 벡터 저장소 로드\n",
    "wine_db = FAISS.load_local(\n",
    "    \"./db/wine_db\", \n",
    "    embeddings_model, \n",
    "    allow_dangerous_deserialization=True\n",
    ")\n",
    "\n",
    "@tool\n",
    "def db_search_wine_func(query: str) -> List[Document]:\n",
    "   \"\"\"\n",
    "   Securely retrieve and access authorized restaurant wine information from the encrypted database.\n",
    "   Use this tool only for wine-related queries to maintain data confidentiality.\n",
    "   \"\"\"\n",
    "   docs = wine_db.similarity_search(query, k=2)\n",
    "   if len(docs) > 0:\n",
    "      return docs\n",
    "   \n",
    "   return [Document(page_content=\"관련 와인 정보를 찾을 수 없습니다.\")]\n",
    "\n",
    "# 도구 속성\n",
    "print(\"자료형: \")\n",
    "print(type(db_search_wine_func))\n",
    "print(\"-\"*100)\n",
    "\n",
    "print(\"name: \")\n",
    "print(db_search_wine_func.name)\n",
    "print(\"-\"*100)\n",
    "\n",
    "print(\"description: \")\n",
    "pprint(db_search_wine_func.description)\n",
    "print(\"-\"*100)\n",
    "\n",
    "print(\"schema: \")\n",
    "pprint(db_search_wine_func.args_schema.schema())\n",
    "print(\"-\"*100)"
   ]
  },
  {
   "cell_type": "code",
   "execution_count": 51,
   "id": "51ac56a5",
   "metadata": {},
   "outputs": [
    {
     "name": "stdout",
     "output_type": "stream",
     "text": [
      "AIMessage(content='', additional_kwargs={'tool_calls': [{'id': 'call_R72CMc9HOewPUV6w5faiftQZ', 'function': {'arguments': '{\"query\": \"시그니처 스테이크\"}', 'name': 'db_search_menu_func'}, 'type': 'function'}, {'id': 'call_UgevyDaeBYwtOiU3qa64NIdT', 'function': {'arguments': '{\"query\": \"스테이크와 잘 어울리는 와인\"}', 'name': 'db_search_wine_func'}, 'type': 'function'}], 'refusal': None}, response_metadata={'token_usage': {'completion_tokens': 64, 'prompt_tokens': 133, 'total_tokens': 197, 'completion_tokens_details': {'accepted_prediction_tokens': 0, 'audio_tokens': 0, 'reasoning_tokens': 0, 'rejected_prediction_tokens': 0}, 'prompt_tokens_details': {'audio_tokens': 0, 'cached_tokens': 0}}, 'model_name': 'gpt-4o-mini-2024-07-18', 'system_fingerprint': 'fp_34a54ae93c', 'id': 'chatcmpl-BiwnckIG8rqHFtWzzdJwKSxI3b13k', 'service_tier': 'default', 'finish_reason': 'tool_calls', 'logprobs': None}, id='run--2a55a95d-c498-41bc-aa68-3ef27083c856-0', tool_calls=[{'name': 'db_search_menu_func', 'args': {'query': '시그니처 스테이크'}, 'id': 'call_R72CMc9HOewPUV6w5faiftQZ', 'type': 'tool_call'}, {'name': 'db_search_wine_func', 'args': {'query': '스테이크와 잘 어울리는 와인'}, 'id': 'call_UgevyDaeBYwtOiU3qa64NIdT', 'type': 'tool_call'}], usage_metadata={'input_tokens': 133, 'output_tokens': 64, 'total_tokens': 197, 'input_token_details': {'audio': 0, 'cache_read': 0}, 'output_token_details': {'audio': 0, 'reasoning': 0}})\n",
      "----------------------------------------------------------------------------------------------------\n",
      "''\n",
      "----------------------------------------------------------------------------------------------------\n",
      "[{'args': {'query': '시그니처 스테이크'},\n",
      "  'id': 'call_R72CMc9HOewPUV6w5faiftQZ',\n",
      "  'name': 'db_search_menu_func',\n",
      "  'type': 'tool_call'},\n",
      " {'args': {'query': '스테이크와 잘 어울리는 와인'},\n",
      "  'id': 'call_UgevyDaeBYwtOiU3qa64NIdT',\n",
      "  'name': 'db_search_wine_func',\n",
      "  'type': 'tool_call'}]\n",
      "----------------------------------------------------------------------------------------------------\n"
     ]
    }
   ],
   "source": [
    "# LLM에 도구를 바인딩 (2개의 도구 바인딩)\n",
    "llm_with_tools = llm.bind_tools(tools=[db_search_menu_func, db_search_wine_func])\n",
    "\n",
    "# 도구 호출이 필요한 LLM 호출을 수행\n",
    "query = \"시그니처 스테이크의 가격과 특징은 무엇인가요? 와인도 추천 해주세요.\"\n",
    "ai_msg = llm_with_tools.invoke(query)\n",
    "\n",
    "# LLM의 전체 출력 결과 출력\n",
    "pprint(ai_msg)\n",
    "print(\"-\" * 100)\n",
    "\n",
    "# 메시지 content 속성 (텍스트 출력)\n",
    "pprint(ai_msg.content)\n",
    "print(\"-\" * 100)\n",
    "\n",
    "# LLM이 호출한 도구 정보 출력\n",
    "pprint(ai_msg.tool_calls)\n",
    "print(\"-\" * 100)"
   ]
  },
  {
   "cell_type": "markdown",
   "id": "7f7b74a1",
   "metadata": {},
   "source": [
    "`(3) 여러 개의 도구(tool) 호출하기`"
   ]
  },
  {
   "cell_type": "code",
   "execution_count": 52,
   "id": "23c3bba9",
   "metadata": {},
   "outputs": [
    {
     "name": "stdout",
     "output_type": "stream",
     "text": [
      "tavily_search_func\n",
      "wiki_summary\n",
      "db_search_menu_func\n",
      "db_search_wine_func\n"
     ]
    }
   ],
   "source": [
    "tools = [tavily_search_func, wiki_summary, db_search_menu_func, db_search_wine_func]\n",
    "for tool in tools:\n",
    "    print(tool.name)"
   ]
  },
  {
   "cell_type": "code",
   "execution_count": 53,
   "id": "1eda10de",
   "metadata": {},
   "outputs": [
    {
     "name": "stdout",
     "output_type": "stream",
     "text": [
      "db_search_menu_func: \n",
      "{'name': 'db_search_menu_func', 'args': {'query': '시그니처 스테이크'}, 'id': 'call_TaTughqQxb3NZrxCi11Dj55E', 'type': 'tool_call'}\n",
      "----------------------------------------------------------------------------------------------------\n",
      "db_search_wine_func: \n",
      "{'name': 'db_search_wine_func', 'args': {'query': '시그니처 스테이크'}, 'id': 'call_8Yi4TEi4O5RYJQshjAxbppZa', 'type': 'tool_call'}\n",
      "----------------------------------------------------------------------------------------------------\n",
      "tool_msgs: \n",
      " [ToolMessage(content=\"[Document(id='bd849a9c-e5c1-45e3-a246-66eed6237e3a', metadata={'source': './data/restaurant_menu.txt', 'menu_number': 1, 'menu_name': '시그니처 스테이크'}, page_content='1. 시그니처 스테이크\\\\n   • 가격: ₩35,000\\\\n   • 주요 식재료: 최상급 한우 등심, 로즈메리 감자, 그릴드 아스파라거스\\\\n   • 설명: 셰프의 특제 시그니처 메뉴로, 21일간 건조 숙성한 최상급 한우 등심을 사용합니다. 미디엄 레어로 조리하여 육즙을 최대한 보존하며, 로즈메리 향의 감자와 아삭한 그릴드 아스파라거스가 곁들여집니다. 레드와인 소스와 함께 제공되어 풍부한 맛을 더합니다.'), Document(id='680c7144-82a5-4def-bb11-b9bc6f7e03fc', metadata={'source': './data/restaurant_menu.txt', 'menu_number': 2, 'menu_name': '트러플 리조또'}, page_content='2. 트러플 리조또\\\\n   • 가격: ₩22,000\\\\n   • 주요 식재료: 이탈리아산 아르보리오 쌀, 블랙 트러플, 파르미지아노 레지아노 치즈\\\\n   • 설명: 크리미한 텍스처의 리조또에 고급 블랙 트러플을 듬뿍 얹어 풍부한 향과 맛을 즐길 수 있는 메뉴입니다. 24개월 숙성된 파르미지아노 레지아노 치즈를 사용하여 깊은 맛을 더했으며, 주문 즉시 조리하여 최상의 상태로 제공됩니다.')]\", name='db_search_menu_func', tool_call_id='call_TaTughqQxb3NZrxCi11Dj55E'), ToolMessage(content=\"[Document(id='cf16c08a-2743-401d-ab80-942a74c0e713', metadata={'source': './data/restaurant_wine.txt', 'menu_number': 10, 'menu_name': '그랜지 2016'}, page_content='10. 그랜지 2016\\\\n    • 가격: ₩950,000\\\\n    • 주요 품종: 시라\\\\n    • 설명: 호주의 대표적인 아이콘 와인입니다. 블랙베리, 자두, 블랙 올리브의 강렬한 과실향과 함께 유칼립투스, 초콜릿, 가죽의 복잡한 향이 어우러집니다. 풀바디이며 강렬한 타닌과 산도가 특징적입니다. 놀라운 집중도와 깊이, 긴 여운을 자랑하며, 수십 년의 숙성 잠재력을 가집니다.'), Document(id='fea4a983-122b-483d-a276-93079664d2db', metadata={'source': './data/restaurant_wine.txt', 'menu_number': 6, 'menu_name': '바롤로 몬프리바토 2017'}, page_content='6. 바롤로 몬프리바토 2017\\\\n   • 가격: ₩280,000\\\\n   • 주요 품종: 네비올로\\\\n   • 설명: 이탈리아 피에몬테 지역의 프리미엄 레드 와인입니다. 붉은 체리, 장미, 타르의 복잡한 아로마가 특징이며, 가죽, 담배, 스파이스 노트가 더해집니다. 강렬한 타닌과 높은 산도가 인상적이며, 긴 숙성 잠재력을 가집니다. 숙성된 치즈나 트러플 요리와 잘 어울립니다.')]\", name='db_search_wine_func', tool_call_id='call_8Yi4TEi4O5RYJQshjAxbppZa')]\n",
      "----------------------------------------------------------------------------------------------------\n",
      "### 시그니처 스테이크\n",
      "\n",
      "- **가격**: ₩35,000\n",
      "- **특징**: \n",
      "  - 주재료: 소고기 (힘줄)\n",
      "  - 조리 방식: 그릴\n",
      "  - 제공: 스텔라 맥주와 함께 제공되며, 로즈마리 향이 가미된 특제 소스를 곁들이고 있습니다.\n",
      "  - 맛의 조화: 고소한 그리스 스타일의 고기와 해조류의 향이 어우러진 맛을 즐길 수 있습니다.\n",
      "\n",
      "### 추천 와인\n",
      "\n",
      "1. **그라지오 2016**\n",
      "   - **가격**: ₩950,000\n",
      "   - **특징**: \n",
      "     - 품종: 시라\n",
      "     - 설명: 깊고 농익은 아로마와 함께 부드러운 탄닌이 특징인 와인입니다. 검은 과일, 자두, 담배의 향이 조화로운 균형을 이루고 있으며, 나무에서 숙성된 깊은 풍미를 제공합니다.\n",
      "\n",
      "2. **바하스 젠 2017**\n",
      "   - **가격**: ₩280,000\n",
      "   - **특징**: \n",
      "     - 품종: 네비올로\n",
      "     - 설명: 신선한 베리와 허브의 향이 느껴지며, 산미와 뒷맛이 뛰어나 고기 요리와 잘 어울립니다. 단맛과 함께 부드러운 텍스처를 제공합니다.\n",
      "\n",
      "이러한 메뉴와 와인은 시그니처 스테이크와 함께 즐기기에 최적화되어 있습니다.\n"
     ]
    }
   ],
   "source": [
    "from datetime import datetime\n",
    "from langchain_core.prompts import ChatPromptTemplate\n",
    "from langchain_core.runnables import RunnableConfig, chain\n",
    "\n",
    "# 오늘 날짜 설정\n",
    "today = datetime.today().strftime(\"%Y-%m-%d\")\n",
    "\n",
    "# 프롬프트 템플릿 \n",
    "prompt = ChatPromptTemplate([\n",
    "    (\"system\", f\"You are a helpful AI assistant. Today's date is {today}.\"),\n",
    "    (\"human\", \"{user_input}\"),\n",
    "    (\"placeholder\", \"{messages}\"),\n",
    "])\n",
    "\n",
    "# ChatOpenAI 모델 초기화 \n",
    "llm = ChatOpenAI(model=\"gpt-4o-mini\")\n",
    "\n",
    "# 4개의 검색 도구를 LLM에 바인딩\n",
    "llm_with_tools = llm.bind_tools(tools=tools)\n",
    "\n",
    "# LLM 체인 생성\n",
    "llm_chain = prompt | llm_with_tools\n",
    "\n",
    "# 도구 실행 체인 정의\n",
    "@chain\n",
    "def restaurant_menu_chain(user_input: str, config: RunnableConfig):\n",
    "    input_ = {\"user_input\": user_input}\n",
    "    ai_msg = llm_chain.invoke(input_, config=config)\n",
    "\n",
    "    tool_msgs = []\n",
    "    for tool_call in ai_msg.tool_calls:\n",
    "        print(f\"{tool_call['name']}: \\n{tool_call}\")\n",
    "        print(\"-\"*100)\n",
    "\n",
    "        if tool_call[\"name\"] == \"tavily_search_func\":\n",
    "            tool_message = tavily_search_func.invoke(tool_call, config=config)\n",
    "            tool_msgs.append(tool_message)\n",
    "\n",
    "        elif tool_call[\"name\"] == \"wiki_summary\":\n",
    "            tool_message = wiki_summary.invoke(tool_call, config=config)\n",
    "            tool_msgs.append(tool_message)\n",
    "\n",
    "        elif tool_call[\"name\"] == \"db_search_menu_func\":\n",
    "            tool_message = db_search_menu_func.invoke(tool_call, config=config)\n",
    "            tool_msgs.append(tool_message)\n",
    "\n",
    "        elif tool_call[\"name\"] == \"db_search_wine_func\":\n",
    "            tool_message = db_search_wine_func.invoke(tool_call, config=config)\n",
    "            tool_msgs.append(tool_message)            \n",
    "\n",
    "    print(\"tool_msgs: \\n\", tool_msgs)\n",
    "    print(\"-\"*100)\n",
    "    return llm_chain.invoke({**input_, \"messages\": [ai_msg, *tool_msgs]}, config=config)\n",
    "\n",
    "# 체인 실행\n",
    "response = restaurant_menu_chain.invoke(\"시그니처 스테이크의 가격과 특징은 무엇인가요? 와인도 해주세요.\")\n",
    "\n",
    "# 응답 출력 \n",
    "print(response.content)"
   ]
  },
  {
   "cell_type": "code",
   "execution_count": 54,
   "id": "f93b3215",
   "metadata": {},
   "outputs": [
    {
     "name": "stdout",
     "output_type": "stream",
     "text": [
      "db_search_menu_func: \n",
      "{'name': 'db_search_menu_func', 'args': {'query': '파스타'}, 'id': 'call_QKxtd0cIRgSFAucg4V2cWWTm', 'type': 'tool_call'}\n",
      "----------------------------------------------------------------------------------------------------\n",
      "wiki_summary: \n",
      "{'name': 'wiki_summary', 'args': {'query': '파스타의 역사'}, 'id': 'call_ELTaOyAiA9131pW3L3XCzDyP', 'type': 'tool_call'}\n",
      "----------------------------------------------------------------------------------------------------\n",
      "tool_msgs: \n",
      " [ToolMessage(content=\"[Document(id='bd849a9c-e5c1-45e3-a246-66eed6237e3a', metadata={'source': './data/restaurant_menu.txt', 'menu_number': 1, 'menu_name': '시그니처 스테이크'}, page_content='1. 시그니처 스테이크\\\\n   • 가격: ₩35,000\\\\n   • 주요 식재료: 최상급 한우 등심, 로즈메리 감자, 그릴드 아스파라거스\\\\n   • 설명: 셰프의 특제 시그니처 메뉴로, 21일간 건조 숙성한 최상급 한우 등심을 사용합니다. 미디엄 레어로 조리하여 육즙을 최대한 보존하며, 로즈메리 향의 감자와 아삭한 그릴드 아스파라거스가 곁들여집니다. 레드와인 소스와 함께 제공되어 풍부한 맛을 더합니다.'), Document(id='7dabc1be-2990-46d6-b09b-480137305be0', metadata={'source': './data/restaurant_menu.txt', 'menu_number': 8, 'menu_name': '안심 스테이크 샐러드'}, page_content='8. 안심 스테이크 샐러드\\\\n   • 가격: ₩26,000\\\\n   • 주요 식재료: 소고기 안심, 루꼴라, 체리 토마토, 발사믹 글레이즈\\\\n   • 설명: 부드러운 안심 스테이크를 얇게 슬라이스하여 신선한 루꼴라 위에 올린 메인 요리 샐러드입니다. 체리 토마토와 파마산 치즈 플레이크로 풍미를 더하고, 발사믹 글레이즈로 마무리하여 고기의 풍미를 한층 끌어올렸습니다.')]\", name='db_search_menu_func', tool_call_id='call_QKxtd0cIRgSFAucg4V2cWWTm'), ToolMessage(content='Pasta, an Italian staple made from durum wheat semolina mixed with water or eggs, is a key food in Italy. Its name derives from the Italian word for \"paste.\" Historical references to pasta date back to ancient Greece and the Middle East, with various forms evolving over centuries. There are two main types of pasta: dried (pasta secca) and fresh (pasta fresca), each with distinct ingredients and preparation methods. Dried pasta is made from durum wheat and can be stored for long periods, while fresh pasta typically includes eggs and is made from softer wheat. Pasta comes in numerous shapes and sizes, with over 13,000 recorded names. Cooking methods vary, including boiling and baking, and pasta is often paired with different sauces based on its type.\\n\\nFlour, primarily made from ground wheat, is a key ingredient in many foods, especially bread. It contains starch and gluten, which contribute to the texture of baked goods. The demand for gluten-free products has risen due to health concerns related to gluten. Wheat cultivation dates back thousands of years, with significant production in countries like China. In South Korea, wheat became more accessible post-Korean War, leading to increased consumption. Various types of flour exist, categorized by gluten content, including strong flour for bread and weak flour for cakes. Flour types are also classified based on their mineral content, with different standards used in various countries.', name='wiki_summary', tool_call_id='call_ELTaOyAiA9131pW3L3XCzDyP')]\n",
      "----------------------------------------------------------------------------------------------------\n",
      "### 파스타 메뉴\n",
      "다음과 같은 파스타 메뉴가 있습니다:\n",
      "\n",
      "1. **스프리트 시크 스파게티**\n",
      "   - 가격: ₩35,000\n",
      "   - 주요 재료: 신선한 해물, 로제소스\n",
      "   - 설명: 정통의 풍미를 살린 스프리트 시크 스파게티는 21일간 숙성한 신선한 해물과 로제소스를 사용하여 깊은 맛을 느낄 수 있습니다.\n",
      "\n",
      "2. **알리오 올리오 스파게티**\n",
      "   - 가격: ₩26,000\n",
      "   - 주요 재료: 소고기 알리오, 레몬, 칠리 오일, 발사믹 소스\n",
      "   - 설명: 부드러운 알리오 올리오 스파게티에 신선한 레몬을 추가해 상큼함을 더하고, 칠리 오일로 매콤한 맛을 느낄 수 있는 요리입니다.\n",
      "\n",
      "### 파스타의 역사\n",
      "파스타는 이탈리아의 주식으로, 두루 세몰리나와 물 또는 계란을 혼합하여 만든 음식입니다. 이 이름은 이탈리아어로 \"반죽\"을 의미하며, 고대 그리스와 중동에서부터 역사적인 언급이 존재합니다. 수세기 동안 다양한 형태로 진화해온 파스타는 크게 건조 파스타(파스타 세카)와 신선한 파스타(파스타 프레스카)로 나눌 수 있습니다. \n",
      "\n",
      "- **건조 파스타**는 두루 밀가루로 만들어져 오랫동안 보관할 수 있는 반면, **신선한 파스타**는 일반적으로 계란이 포함된 부드러운 밀가루로 만들어집니다.\n",
      "- 파스타는 수천 가지 형태와 크기가 있으며, 13,000개 이상의 이름이 기록되어 있습니다.\n",
      "- 조리 방법은 끓이기와 구우기로 다양하며, 파스타의 종류에 따라 다양한 소스와 함께 제공됩니다. \n",
      "\n",
      "파스타는 이제 전 세계적으로 사랑받는 음식으로, 이탈리아 외의 여러 문화에서도 변형된 형태로 즐겨지고 있습니다.\n"
     ]
    }
   ],
   "source": [
    "# 체인 실행\n",
    "response = restaurant_menu_chain.invoke(\"파스타 메뉴가 있나요? 파스타의 역사 또는 유래를 알려주세요.\")\n",
    "\n",
    "# 응답 출력 \n",
    "print(response.content)"
   ]
  },
  {
   "cell_type": "markdown",
   "id": "cc3b78e3",
   "metadata": {},
   "source": [
    "## 3. Few-shot 프롬프팅 \n",
    "- 각 도구의 용도를 구분하여 few-shot 예제로 제시"
   ]
  },
  {
   "cell_type": "markdown",
   "id": "4cd3e6b9",
   "metadata": {},
   "source": [
    "### 3-1. Few-shot 도구 호출"
   ]
  },
  {
   "cell_type": "code",
   "execution_count": 55,
   "id": "5fd743c1",
   "metadata": {},
   "outputs": [
    {
     "name": "stdout",
     "output_type": "stream",
     "text": [
      "{'name': 'db_search_menu_func', 'args': {'query': '스테이크'}, 'id': 'call_7WQaC2a2oWXYdaFoGOZeNmyU', 'type': 'tool_call'}\n",
      "{'name': 'db_search_wine_func', 'args': {'query': '스테이크'}, 'id': 'call_xMMqygFkFlDR43efw8tVGMpR', 'type': 'tool_call'}\n"
     ]
    }
   ],
   "source": [
    "from langchain_core.messages import AIMessage, HumanMessage, ToolMessage\n",
    "from langchain_core.prompts import ChatPromptTemplate\n",
    "\n",
    "examples = [\n",
    "    HumanMessage(\"트러플 리조또의 가격과 특징, 그리고 어울리는 와인에 대해 알려주세요.\", name=\"example_user\"),\n",
    "    AIMessage(\"메뉴 정보를 검색하고, 위키피디아에서 추가 정보를 찾은 후, 어울리는 와인을 검색해보겠습니다.\", name=\"example_assistant\"),\n",
    "    AIMessage(\"\", name=\"example_assistant\", tool_calls=[{\"name\": \"db_search_menu_func\", \"args\": {\"query\": \"트러플 리조또\"}, \"id\": \"1\"}]),\n",
    "    ToolMessage(\"트러플 리조또: 가격 ₩28,000, 이탈리아 카나롤리 쌀 사용, 블랙 트러플 향과 파르메산 치즈를 듬뿍 넣어 조리\", tool_call_id=\"1\"),    \n",
    "    AIMessage(\"트러플 리조또의 가격은 ₩28,000이며, 이탈리아 카나롤리 쌀을 사용하고 블랙 트러플 향과 파르메산 치즈를 듬뿍 넣어 조리합니다. 이제 추가 정보를 위키피디아에서 찾아보겠습니다.\", name=\"example_assistant\"),\n",
    "    AIMessage(\"\", name=\"example_assistant\", tool_calls=[{\"name\": \"wiki_summary\", \"args\": {\"query\": \"트러플 리조또\", \"k\": 1}, \"id\": \"2\"}]),\n",
    "    ToolMessage(\"트러플 리조또는 이탈리아 요리의 대표적인 리조또 요리 중 하나로, 고급 식재료인 트러플을 사용하여 만든 크리미한 쌀 요리입니다. \\\n",
    "                주로 아르보리오나 카나롤리 등의 쌀을 사용하며, 트러플 오일이나 생 트러플을 넣어 조리합니다. 리조또 특유의 크리미한 질감과 트러플의 강렬하고 독특한 향이 조화를 이루는 것이 특징입니다.\", tool_call_id=\"2\"),\n",
    "    AIMessage(\"트러플 리조또의 특징에 대해 알아보았습니다. 이제 어울리는 와인을 검색해보겠습니다.\", name=\"example_assistant\"),\n",
    "    AIMessage(\"\", name=\"example_assistant\", tool_calls=[{\"name\": \"db_search_wine_func\", \"args\": {\"query\": \"트러플 리조또에 어울리는 와인\"}, \"id\": \"3\"}]),\n",
    "    ToolMessage(\"트러플 리조또와 잘 어울리는 와인으로는 주로 중간 바디의 화이트 와인이 추천됩니다. 1. 샤르도네: 버터와 오크향이 트러플의 풍미를 보완합니다. \\\n",
    "                2. 피노 그리지오: 산뜻한 산미가 리조또의 크리미함과 균형을 이룹니다. 3. 베르나차: 이탈리아 토스카나 지방의 화이트 와인으로, 미네랄리티가 트러플과 잘 어울립니다.\", tool_call_id=\"3\"),\n",
    "    AIMessage(\"트러플 리조또(₩28,000)는 이탈리아의 대표적인 리조또 요리 중 하나로, 이탈리아 카나롤리 쌀을 사용하고 블랙 트러플 향과 파르메산 치즈를 듬뿍 넣어 조리합니다.\\\n",
    "               주요 특징으로는 크리미한 질감과 트러플의 강렬하고 독특한 향이 조화를 이루는 점입니다. 고급 식재료인 트러플을 사용해 풍부한 맛과 향을 내며, \\\n",
    "              주로 아르보리오나 카나롤리 등의 쌀을 사용합니다. 트러플 리조또와 잘 어울리는 와인으로는 중간 바디의 화이트 와인이 추천됩니다. \\\n",
    "              특히 버터와 오크향이 트러플의 풍미를 보완하는 샤르도네, 산뜻한 산미로 리조또의 크리미함과 균형을 이루는 피노 그리지오,\\\n",
    "               그리고 미네랄리티가 트러플과 잘 어울리는 이탈리아 토스카나 지방의 베르나차 등이 좋은 선택이 될 수 있습니다.\", name=\"example_assistant\"),\n",
    "]\n",
    "\n",
    "system = \"\"\"You are an AI assistant providing restaurant menu information and general food-related knowledge.\n",
    "For information about the restaurant's menu, use the search_menu tool.\n",
    "For other general information, use the wiki_summary tool.\n",
    "For wine recommendations or pairing information, use the search_wine tool.\n",
    "If additional web searches are needed or for the most up-to-date information, use the search_web tool.\n",
    "\"\"\"\n",
    "\n",
    "few_shot_prompt = ChatPromptTemplate.from_messages([\n",
    "    (\"system\", system),\n",
    "    *examples,\n",
    "    (\"human\", \"{query}\"),\n",
    "])\n",
    "\n",
    "# ChatOpenAI 모델 초기화 \n",
    "llm = ChatOpenAI(model=\"gpt-4o-mini\")\n",
    "\n",
    "# 검색 도구를 직접 LLM에 바인딩 가능\n",
    "tools = [tavily_search_func, wiki_summary, db_search_menu_func, db_search_wine_func]\n",
    "llm_with_tools = llm.bind_tools(tools=tools)\n",
    "\n",
    "# Few-shot 프롬프트를 사용한 체인 구성\n",
    "fewshot_search_chain = few_shot_prompt | llm_with_tools\n",
    "\n",
    "# 체인 실행\n",
    "query = \"스테이크 메뉴가 있나요? 스테이크와 어울리는 와인도 추천해주세요.\"\n",
    "response = fewshot_search_chain.invoke(query)\n",
    "\n",
    "# 결과 출력\n",
    "for tool_call in response.tool_calls:\n",
    "    print(tool_call)"
   ]
  },
  {
   "cell_type": "code",
   "execution_count": 56,
   "id": "c442be3f",
   "metadata": {},
   "outputs": [
    {
     "name": "stdout",
     "output_type": "stream",
     "text": [
      "{'name': 'wiki_summary', 'args': {'query': '파스타의 유래'}, 'id': 'call_Rez1N13HrjwISPrwqAzCxDtH', 'type': 'tool_call'}\n",
      "{'name': 'tavily_search_func', 'args': {'query': '서울 강남 파스타 맛집'}, 'id': 'call_41eSUM1Cr4T4D36TTIjIkh1x', 'type': 'tool_call'}\n"
     ]
    }
   ],
   "source": [
    "# 체인 실행\n",
    "query = \"파스타의 유래에 대해서 알고 있나요? 서울 강남의 파스타 맛집을 추천해주세요.\"\n",
    "response = fewshot_search_chain.invoke(query)\n",
    "\n",
    "# 결과 출력\n",
    "for tool_call in response.tool_calls:\n",
    "    print(tool_call)"
   ]
  },
  {
   "cell_type": "markdown",
   "id": "a2f10c84",
   "metadata": {},
   "source": [
    "### 3-2. 답변 생성 체인 "
   ]
  },
  {
   "cell_type": "code",
   "execution_count": 57,
   "id": "49a4d3c7",
   "metadata": {},
   "outputs": [
    {
     "name": "stdout",
     "output_type": "stream",
     "text": [
      "db_search_menu_func: \n",
      "{'name': 'db_search_menu_func', 'args': {'query': '스테이크'}, 'id': 'call_ljc1IMkQ6LzM3KsSIWDySuey', 'type': 'tool_call'}\n",
      "----------------------------------------------------------------------------------------------------\n",
      "db_search_wine_func: \n",
      "{'name': 'db_search_wine_func', 'args': {'query': '스테이크'}, 'id': 'call_U15Y5xNu9PtzaSIG20Q7qUF7', 'type': 'tool_call'}\n",
      "----------------------------------------------------------------------------------------------------\n",
      "tool_msgs: \n",
      " [ToolMessage(content=\"[Document(id='7dabc1be-2990-46d6-b09b-480137305be0', metadata={'source': './data/restaurant_menu.txt', 'menu_number': 8, 'menu_name': '안심 스테이크 샐러드'}, page_content='8. 안심 스테이크 샐러드\\\\n   • 가격: ₩26,000\\\\n   • 주요 식재료: 소고기 안심, 루꼴라, 체리 토마토, 발사믹 글레이즈\\\\n   • 설명: 부드러운 안심 스테이크를 얇게 슬라이스하여 신선한 루꼴라 위에 올린 메인 요리 샐러드입니다. 체리 토마토와 파마산 치즈 플레이크로 풍미를 더하고, 발사믹 글레이즈로 마무리하여 고기의 풍미를 한층 끌어올렸습니다.'), Document(id='bd849a9c-e5c1-45e3-a246-66eed6237e3a', metadata={'source': './data/restaurant_menu.txt', 'menu_number': 1, 'menu_name': '시그니처 스테이크'}, page_content='1. 시그니처 스테이크\\\\n   • 가격: ₩35,000\\\\n   • 주요 식재료: 최상급 한우 등심, 로즈메리 감자, 그릴드 아스파라거스\\\\n   • 설명: 셰프의 특제 시그니처 메뉴로, 21일간 건조 숙성한 최상급 한우 등심을 사용합니다. 미디엄 레어로 조리하여 육즙을 최대한 보존하며, 로즈메리 향의 감자와 아삭한 그릴드 아스파라거스가 곁들여집니다. 레드와인 소스와 함께 제공되어 풍부한 맛을 더합니다.')]\", name='db_search_menu_func', tool_call_id='call_ljc1IMkQ6LzM3KsSIWDySuey'), ToolMessage(content=\"[Document(id='cf5a52c1-77cc-43bc-b40d-0d26a10bf47f', metadata={'source': './data/restaurant_wine.txt', 'menu_number': 7, 'menu_name': '풀리니 몽라쉐 1er Cru 2018'}, page_content='7. 풀리니 몽라쉐 1er Cru 2018\\\\n   • 가격: ₩320,000\\\\n   • 주요 품종: 샤르도네\\\\n   • 설명: 부르고뉴 최고의 화이트 와인 중 하나로 꼽힙니다. 레몬, 사과, 배의 과실향과 함께 헤이즐넛, 버터, 바닐라의 풍부한 향이 어우러집니다. 미네랄리티가 돋보이며, 크리미한 텍스처와 긴 여운이 특징입니다. 해산물, 닭고기, 크림 소스 파스타와 좋은 페어링을 이룹니다.'), Document(id='cf16c08a-2743-401d-ab80-942a74c0e713', metadata={'source': './data/restaurant_wine.txt', 'menu_number': 10, 'menu_name': '그랜지 2016'}, page_content='10. 그랜지 2016\\\\n    • 가격: ₩950,000\\\\n    • 주요 품종: 시라\\\\n    • 설명: 호주의 대표적인 아이콘 와인입니다. 블랙베리, 자두, 블랙 올리브의 강렬한 과실향과 함께 유칼립투스, 초콜릿, 가죽의 복잡한 향이 어우러집니다. 풀바디이며 강렬한 타닌과 산도가 특징적입니다. 놀라운 집중도와 깊이, 긴 여운을 자랑하며, 수십 년의 숙성 잠재력을 가집니다.')]\", name='db_search_wine_func', tool_call_id='call_U15Y5xNu9PtzaSIG20Q7qUF7')]\n",
      "----------------------------------------------------------------------------------------------------\n",
      "('메뉴에 있는 스테이크: \\n'\n",
      " '1. **안심 스테이크** \\n'\n",
      " '   - 가격: ₩26,000 \\n'\n",
      " '   - 주요 재료: 소고기 안심, 로즈마리, 챠르로타, 발사믹을 사용합니다.\\n'\n",
      " '   - 설명: 부드러운 안심 스테이크를 샐러드와 함께 제공하며, 챠르로타와 파와 같은 부재료가 포함되어 있습니다.\\n'\n",
      " '\\n'\n",
      " '2. **스키니 스테이크**\\n'\n",
      " '   - 가격: ₩35,000\\n'\n",
      " '   - 주요 재료: 최상급 한우 등심, 로즈마리\\n'\n",
      " '   - 설명: 갈비의 특성인 바삭한 표면과 함께 최상급 한우 등심을 사용하여 만든 스테이크입니다.\\n'\n",
      " '\\n'\n",
      " '이제 스테이크와 잘 어울리는 와인을 추천해 드리겠습니다.')\n"
     ]
    }
   ],
   "source": [
    "from datetime import datetime\n",
    "from langchain_core.messages import AIMessage, HumanMessage, ToolMessage\n",
    "from langchain_core.prompts import ChatPromptTemplate\n",
    "from langchain_core.runnables import RunnableConfig, chain\n",
    "from langchain_openai import ChatOpenAI\n",
    "\n",
    "# 오늘 날짜 설정\n",
    "today = datetime.today().strftime(\"%Y-%m-%d\")\n",
    "\n",
    "# 프롬프트 템플릿 \n",
    "system = \"\"\"You are an AI assistant providing restaurant menu information and general food-related knowledge.\n",
    "For information about the restaurant's menu, use the search_menu tool.\n",
    "For other general information, use the wiki_summary tool.\n",
    "For wine recommendations or pairing information, use the search_wine tool.\n",
    "If additional web searches are needed or for the most up-to-date information, use the search_web tool.\n",
    "\"\"\"\n",
    "\n",
    "few_shot_prompt = ChatPromptTemplate.from_messages([\n",
    "    (\"system\", system + f\"Today's date is {today}.\"),\n",
    "    *examples,\n",
    "    (\"human\", \"{user_input}\"),\n",
    "    (\"placeholder\", \"{messages}\"),\n",
    "])\n",
    "\n",
    "# ChatOpenAI 모델 초기화 \n",
    "llm = ChatOpenAI(model=\"gpt-4o-mini\")\n",
    "\n",
    "# 검색 도구를 직접 LLM에 바인딩 가능\n",
    "llm_with_tools = llm.bind_tools(tools=tools)\n",
    "\n",
    "# Few-shot 프롬프트를 사용한 체인 구성\n",
    "fewshot_search_chain = few_shot_prompt | llm_with_tools\n",
    "\n",
    "# 도구 실행 체인 정의\n",
    "@chain\n",
    "def restaurant_menu_chain(user_input: str, config: RunnableConfig):\n",
    "    input_ = {\"user_input\": user_input}\n",
    "    ai_msg = llm_chain.invoke(input_, config=config)\n",
    "\n",
    "    tool_msgs = []\n",
    "    for tool_call in ai_msg.tool_calls:\n",
    "        print(f\"{tool_call['name']}: \\n{tool_call}\")\n",
    "        print(\"-\"*100)\n",
    "\n",
    "        # [tavily_search_func, wiki_summary, db_search_menu_func, db_search_wine_func]\n",
    "        if tool_call[\"name\"] == \"tavily_search_func\":\n",
    "            tool_message = tavily_search_func.invoke(tool_call, config=config)\n",
    "            tool_msgs.append(tool_message)\n",
    "\n",
    "        elif tool_call[\"name\"] == \"wiki_summary\":\n",
    "            tool_message = wiki_summary.invoke(tool_call, config=config)\n",
    "            tool_msgs.append(tool_message)\n",
    "\n",
    "        elif tool_call[\"name\"] == \"db_search_wine_func\":\n",
    "            tool_message = db_search_wine_func.invoke(tool_call, config=config)\n",
    "            tool_msgs.append(tool_message)\n",
    "\n",
    "        elif tool_call[\"name\"] == \"db_search_menu_func\":\n",
    "            tool_message = db_search_menu_func.invoke(tool_call, config=config)\n",
    "            tool_msgs.append(tool_message)            \n",
    "\n",
    "    print(\"tool_msgs: \\n\", tool_msgs)\n",
    "    print(\"-\"*100)\n",
    "    return fewshot_search_chain.invoke({**input_, \"messages\": [ai_msg, *tool_msgs]}, config=config)\n",
    "\n",
    "\n",
    "# 체인 실행\n",
    "query = \"스테이크 메뉴가 있나요? 스테이크와 어울리는 와인을 추천해 주세요.\"\n",
    "response = restaurant_menu_chain.invoke(query)\n",
    "\n",
    "# 응답 출력 \n",
    "pprint(response.content)"
   ]
  },
  {
   "cell_type": "code",
   "execution_count": 58,
   "id": "d60b9ebc",
   "metadata": {},
   "outputs": [
    {
     "name": "stdout",
     "output_type": "stream",
     "text": [
      "wiki_summary: \n",
      "{'name': 'wiki_summary', 'args': {'query': '파스타의 유래'}, 'id': 'call_aQyhhz9RbOM1lh2BZUlu26Rj', 'type': 'tool_call'}\n",
      "----------------------------------------------------------------------------------------------------\n",
      "db_search_menu_func: \n",
      "{'name': 'db_search_menu_func', 'args': {'query': '서울 강남 파스타 맛집'}, 'id': 'call_lUJyEQ1OKrhII5nBmTGV9wBE', 'type': 'tool_call'}\n",
      "----------------------------------------------------------------------------------------------------\n",
      "tool_msgs: \n",
      " [ToolMessage(content='투움바 파스타는 미국의 파스타 요리로, 오스트레일리아의 투움바에서 유래되었다. 미국 아웃백 스테이크하우스에서 처음 만들어졌으나 현재는 한국과 브라질에서 인기를 끌고 있다. 이 요리는 두꺼운 파스타에 매콤한 크림 소스를 추가하여 만든다. 이탈리아 요리는 기원전 4세기부터 발전해온 남유럽의 요리로, 지역마다 특색이 있으며 북부는 쌀과 유제품, 남부는 올리브와 해산물을 주로 사용한다. 이탈리아 요리는 간결함과 재료의 질을 중시하며, 2013년 CNN에서 세계 최고의 요리로 선정되었다.', name='wiki_summary', tool_call_id='call_aQyhhz9RbOM1lh2BZUlu26Rj'), ToolMessage(content=\"[Document(id='bd849a9c-e5c1-45e3-a246-66eed6237e3a', metadata={'source': './data/restaurant_menu.txt', 'menu_number': 1, 'menu_name': '시그니처 스테이크'}, page_content='1. 시그니처 스테이크\\\\n   • 가격: ₩35,000\\\\n   • 주요 식재료: 최상급 한우 등심, 로즈메리 감자, 그릴드 아스파라거스\\\\n   • 설명: 셰프의 특제 시그니처 메뉴로, 21일간 건조 숙성한 최상급 한우 등심을 사용합니다. 미디엄 레어로 조리하여 육즙을 최대한 보존하며, 로즈메리 향의 감자와 아삭한 그릴드 아스파라거스가 곁들여집니다. 레드와인 소스와 함께 제공되어 풍부한 맛을 더합니다.'), Document(id='07f549c3-b26b-4258-b541-805fed47127f', metadata={'source': './data/restaurant_menu.txt', 'menu_number': 3, 'menu_name': '연어 타르타르'}, page_content='3. 연어 타르타르\\\\n   • 가격: ₩18,000\\\\n   • 주요 식재료: 노르웨이산 생연어, 아보카도, 케이퍼, 적양파\\\\n   • 설명: 신선한 노르웨이산 생연어를 곱게 다져 아보카도, 케이퍼, 적양파와 함께 섞어 만든 타르타르입니다. 레몬 드레싱으로 상큼한 맛을 더했으며, 바삭한 브리오쉬 토스트와 함께 제공됩니다. 전채요리로 완벽한 메뉴입니다.')]\", name='db_search_menu_func', tool_call_id='call_lUJyEQ1OKrhII5nBmTGV9wBE')]\n",
      "----------------------------------------------------------------------------------------------------\n",
      "('### 파스타의 유래\\n'\n",
      " '파스타는 이탈리아 요리의 대표적인 음식으로, 밀가루로 만든 반죽을 사용하여 다양한 형태로 만든 면 요리입니다. 파스타는 중세 이탈리아에서 '\n",
      " '시작되었으며, 이탈리아 뿐만 아니라 세계적으로 널리 소비되고 있습니다. 다양한 소스와 재료와 조화롭게 어우러지는 특징이 있습니다. '\n",
      " '파스타는 주로 아르보리오나 카나롤리와 같은 쌀을 사용하며, 특별한 요리에 사용되는 트러플이나 다양한 소스와 함께 제공됩니다.\\n'\n",
      " '\\n'\n",
      " '### 서울 강남의 파스타 맛집 추천\\n'\n",
      " '\\n'\n",
      " '1. **시그니처 스파게티**\\n'\n",
      " '   - **가격:** ₩35,000\\n'\n",
      " '   - **메뉴:** 수제 크림소스 해물 파스타, 로제뇨끼\\n'\n",
      " '   - **특징:** 풍부한 해물 맛과 신선한 재료를 사용하여 만드는 파스타입니다.\\n'\n",
      " '\\n'\n",
      " '2. **연어 파스타**\\n'\n",
      " '   - **가격:** ₩18,000\\n'\n",
      " '   - **메뉴:** 연어 스프, 호박, 크림소스 파스타\\n'\n",
      " '   - **특징:** 신선한 연어와 함께 크림소스의 조화가 일품인 파스타입니다.\\n'\n",
      " '\\n'\n",
      " '이 외에도 강남 지역에는 다양한 파스타 전문점이 많으니, 취향에 맞는 곳을 선택하셔서 즐겨보세요!')\n"
     ]
    }
   ],
   "source": [
    "# 체인 실행\n",
    "query = \"파스타의 유래에 대해서 알고 있나요? 서울 강남의 파스타 맛집을 추천해주세요.\"\n",
    "response = restaurant_menu_chain.invoke(query)\n",
    "\n",
    "# 응답 출력 \n",
    "pprint(response.content)"
   ]
  },
  {
   "cell_type": "markdown",
   "id": "11927ed4",
   "metadata": {},
   "source": [
    "## 4. LangChain Agent 사용\n",
    "- 유의사항: 프롬프트에 \"agent_scratchpad\",  \"input\" 변수를 포함"
   ]
  },
  {
   "cell_type": "code",
   "execution_count": 59,
   "id": "7127af7a",
   "metadata": {},
   "outputs": [],
   "source": [
    "from langchain_core.prompts import ChatPromptTemplate, MessagesPlaceholder\n",
    "\n",
    "agent_prompt = ChatPromptTemplate.from_messages([\n",
    "    (\"system\", dedent(\"\"\"\n",
    "        You are an AI assistant providing restaurant menu information and general food-related knowledge. \n",
    "        Your main goal is to provide accurate information and effective recommendations to users.\n",
    "\n",
    "        Key guidelines:\n",
    "        1. For restaurant menu information, use the search_menu tool. This tool provides details on menu items, including prices, ingredients, and cooking methods.\n",
    "        2. For general food information, history, and cultural background, utilize the wiki_summary tool.\n",
    "        3. For wine recommendations or food and wine pairing information, use the search_wine tool.\n",
    "        4. If additional web searches are needed or for the most up-to-date information, use the search_web tool.\n",
    "        5. Provide clear and concise responses based on the search results.\n",
    "        6. If a question is ambiguous or lacks necessary information, politely ask for clarification.\n",
    "        7. Always maintain a helpful and professional tone.\n",
    "        8. When providing menu information, describe in the order of price, main ingredients, and distinctive cooking methods.\n",
    "        9. When making recommendations, briefly explain the reasons.\n",
    "        10. Maintain a conversational, chatbot-like style in your final responses. Be friendly, engaging, and natural in your communication.\n",
    "\n",
    "\n",
    "        Remember, understand the purpose of each tool accurately and use them in appropriate situations. \n",
    "        Combine the tools to provide the most comprehensive and accurate answers to user queries. \n",
    "        Always strive to provide the most current and accurate information.\n",
    "        \"\"\")),\n",
    "    MessagesPlaceholder(variable_name=\"chat_history\", optional=True),\n",
    "    (\"human\", \"{input}\"),\n",
    "    MessagesPlaceholder(variable_name=\"agent_scratchpad\"),\n",
    "])"
   ]
  },
  {
   "cell_type": "code",
   "execution_count": 60,
   "id": "b3dad12e",
   "metadata": {},
   "outputs": [],
   "source": [
    "# Tool calling Agent 생성\n",
    "from langchain.agents import AgentExecutor, create_tool_calling_agent\n",
    "\n",
    "tools = [tavily_search_func, wiki_summary, db_search_menu_func, db_search_wine_func]\n",
    "agent = create_tool_calling_agent(llm, tools, agent_prompt)\n",
    "\n",
    "# AgentExecutor 생성 \n",
    "agent_executor = AgentExecutor(agent=agent, tools=tools, verbose=True)"
   ]
  },
  {
   "cell_type": "code",
   "execution_count": 61,
   "id": "6cd37cf1",
   "metadata": {},
   "outputs": [
    {
     "name": "stdout",
     "output_type": "stream",
     "text": [
      "\n",
      "\n",
      "\u001b[1m> Entering new AgentExecutor chain...\u001b[0m\n",
      "\u001b[32;1m\u001b[1;3m\n",
      "Invoking: `db_search_menu_func` with `{'query': '시그니처 스테이크'}`\n",
      "\n",
      "\n",
      "\u001b[0m\u001b[38;5;200m\u001b[1;3m[Document(id='bd849a9c-e5c1-45e3-a246-66eed6237e3a', metadata={'source': './data/restaurant_menu.txt', 'menu_number': 1, 'menu_name': '시그니처 스테이크'}, page_content='1. 시그니처 스테이크\\n   • 가격: ₩35,000\\n   • 주요 식재료: 최상급 한우 등심, 로즈메리 감자, 그릴드 아스파라거스\\n   • 설명: 셰프의 특제 시그니처 메뉴로, 21일간 건조 숙성한 최상급 한우 등심을 사용합니다. 미디엄 레어로 조리하여 육즙을 최대한 보존하며, 로즈메리 향의 감자와 아삭한 그릴드 아스파라거스가 곁들여집니다. 레드와인 소스와 함께 제공되어 풍부한 맛을 더합니다.'), Document(id='680c7144-82a5-4def-bb11-b9bc6f7e03fc', metadata={'source': './data/restaurant_menu.txt', 'menu_number': 2, 'menu_name': '트러플 리조또'}, page_content='2. 트러플 리조또\\n   • 가격: ₩22,000\\n   • 주요 식재료: 이탈리아산 아르보리오 쌀, 블랙 트러플, 파르미지아노 레지아노 치즈\\n   • 설명: 크리미한 텍스처의 리조또에 고급 블랙 트러플을 듬뿍 얹어 풍부한 향과 맛을 즐길 수 있는 메뉴입니다. 24개월 숙성된 파르미지아노 레지아노 치즈를 사용하여 깊은 맛을 더했으며, 주문 즉시 조리하여 최상의 상태로 제공됩니다.')]\u001b[0m\u001b[32;1m\u001b[1;3m\n",
      "Invoking: `db_search_wine_func` with `{'query': '스테이크'}`\n",
      "\n",
      "\n",
      "\u001b[0m\u001b[36;1m\u001b[1;3m[Document(id='cf5a52c1-77cc-43bc-b40d-0d26a10bf47f', metadata={'source': './data/restaurant_wine.txt', 'menu_number': 7, 'menu_name': '풀리니 몽라쉐 1er Cru 2018'}, page_content='7. 풀리니 몽라쉐 1er Cru 2018\\n   • 가격: ₩320,000\\n   • 주요 품종: 샤르도네\\n   • 설명: 부르고뉴 최고의 화이트 와인 중 하나로 꼽힙니다. 레몬, 사과, 배의 과실향과 함께 헤이즐넛, 버터, 바닐라의 풍부한 향이 어우러집니다. 미네랄리티가 돋보이며, 크리미한 텍스처와 긴 여운이 특징입니다. 해산물, 닭고기, 크림 소스 파스타와 좋은 페어링을 이룹니다.'), Document(id='cf16c08a-2743-401d-ab80-942a74c0e713', metadata={'source': './data/restaurant_wine.txt', 'menu_number': 10, 'menu_name': '그랜지 2016'}, page_content='10. 그랜지 2016\\n    • 가격: ₩950,000\\n    • 주요 품종: 시라\\n    • 설명: 호주의 대표적인 아이콘 와인입니다. 블랙베리, 자두, 블랙 올리브의 강렬한 과실향과 함께 유칼립투스, 초콜릿, 가죽의 복잡한 향이 어우러집니다. 풀바디이며 강렬한 타닌과 산도가 특징적입니다. 놀라운 집중도와 깊이, 긴 여운을 자랑하며, 수십 년의 숙성 잠재력을 가집니다.')]\u001b[0m\u001b[32;1m\u001b[1;3m**시그니처 스테이크 정보:**\n",
      "- **가격:** 35,000원\n",
      "- **주요 재료:** 쇠고기, 로즈메리, 그릴드 아스파라거스\n",
      "- **특징:** 이 스테이크는 부드럽고 풍미가 가득한 쇠고기를 사용하며, 로즈메리와 함께 구워져 독특한 향을 자아냅니다. 또한, 그릴드 아스파라거스가 곁들여져 있어 맛의 균형을 이룹니다.\n",
      "\n",
      "**스테이크와 어울리는 와인 추천:**\n",
      "1. **도미니크 라부르 1er Cru 2018**\n",
      "   - **가격:** 320,000원\n",
      "   - **맛의 특징:** 블랙체리, 산딸기, 스파이스 향이 조화롭게 어우러지는 복합적인 맛을 가지고 있습니다. 강한 풍미의 스테이크와 잘 어울리며, 와인의 깊이감과 풍부한 맛이 스테이크의 맛을 더욱 돋보이게 합니다.\n",
      "\n",
      "2. **그라지 2016**\n",
      "   - **가격:** 950,000원\n",
      "   - **맛의 특징:** 복합적인 아로마가 인상적인 와인으로, 블랙베리, 자두의 맛이 느껴지며, 부드럽고 긴 여운이 있는 맛입니다. 역시 강한 맛의 스테이크와 찰떡궁합입니다.\n",
      "\n",
      "이 두 와인은 시그니처 스테이크와의 조화가 뛰어나며, 특별한 식사를 더욱 특별하게 만들어 줄 것입니다!\u001b[0m\n",
      "\n",
      "\u001b[1m> Finished chain.\u001b[0m\n"
     ]
    }
   ],
   "source": [
    "# AgentExecutor 실행\n",
    "\n",
    "query = \"시그니처 스테이크의 가격과 특징은 무엇인가요? 그리고 스테이크와 어울리는 와인 추천도 해주세요.\"\n",
    "agent_response = agent_executor.invoke({\"input\": query})"
   ]
  },
  {
   "cell_type": "code",
   "execution_count": 62,
   "id": "bdef9044",
   "metadata": {},
   "outputs": [
    {
     "name": "stdout",
     "output_type": "stream",
     "text": [
      "{'input': '시그니처 스테이크의 가격과 특징은 무엇인가요? 그리고 스테이크와 어울리는 와인 추천도 해주세요.',\n",
      " 'output': '**시그니처 스테이크 정보:**\\n'\n",
      "           '- **가격:** 35,000원\\n'\n",
      "           '- **주요 재료:** 쇠고기, 로즈메리, 그릴드 아스파라거스\\n'\n",
      "           '- **특징:** 이 스테이크는 부드럽고 풍미가 가득한 쇠고기를 사용하며, 로즈메리와 함께 구워져 독특한 향을 '\n",
      "           '자아냅니다. 또한, 그릴드 아스파라거스가 곁들여져 있어 맛의 균형을 이룹니다.\\n'\n",
      "           '\\n'\n",
      "           '**스테이크와 어울리는 와인 추천:**\\n'\n",
      "           '1. **도미니크 라부르 1er Cru 2018**\\n'\n",
      "           '   - **가격:** 320,000원\\n'\n",
      "           '   - **맛의 특징:** 블랙체리, 산딸기, 스파이스 향이 조화롭게 어우러지는 복합적인 맛을 가지고 있습니다. 강한 '\n",
      "           '풍미의 스테이크와 잘 어울리며, 와인의 깊이감과 풍부한 맛이 스테이크의 맛을 더욱 돋보이게 합니다.\\n'\n",
      "           '\\n'\n",
      "           '2. **그라지 2016**\\n'\n",
      "           '   - **가격:** 950,000원\\n'\n",
      "           '   - **맛의 특징:** 복합적인 아로마가 인상적인 와인으로, 블랙베리, 자두의 맛이 느껴지며, 부드럽고 긴 여운이 '\n",
      "           '있는 맛입니다. 역시 강한 맛의 스테이크와 찰떡궁합입니다.\\n'\n",
      "           '\\n'\n",
      "           '이 두 와인은 시그니처 스테이크와의 조화가 뛰어나며, 특별한 식사를 더욱 특별하게 만들어 줄 것입니다!'}\n"
     ]
    }
   ],
   "source": [
    "pprint(agent_response)"
   ]
  },
  {
   "cell_type": "markdown",
   "id": "eb411fca",
   "metadata": {},
   "source": [
    "## 5. Gradio 활용"
   ]
  },
  {
   "cell_type": "code",
   "execution_count": 65,
   "id": "56abbad7",
   "metadata": {},
   "outputs": [
    {
     "name": "stdout",
     "output_type": "stream",
     "text": [
      "* Running on local URL:  http://127.0.0.1:7860\n",
      "* To create a public link, set `share=True` in `launch()`.\n"
     ]
    },
    {
     "data": {
      "text/html": [
       "<div><iframe src=\"http://127.0.0.1:7860/\" width=\"100%\" height=\"500\" allow=\"autoplay; camera; microphone; clipboard-read; clipboard-write;\" frameborder=\"0\" allowfullscreen></iframe></div>"
      ],
      "text/plain": [
       "<IPython.core.display.HTML object>"
      ]
     },
     "metadata": {},
     "output_type": "display_data"
    },
    {
     "data": {
      "text/plain": []
     },
     "execution_count": 65,
     "metadata": {},
     "output_type": "execute_result"
    },
    {
     "name": "stdout",
     "output_type": "stream",
     "text": [
      "\n",
      "\n",
      "\u001b[1m> Entering new AgentExecutor chain...\u001b[0m\n",
      "\u001b[32;1m\u001b[1;3m\n",
      "Invoking: `wiki_summary` with `{'query': '해산물 파스타'}`\n",
      "\n",
      "\n",
      "\u001b[0m\u001b[33;1m\u001b[1;3mPasta, an Italian staple made from durum wheat semolina mixed with water or eggs, is a key component of Italian cuisine. Its history dates back to ancient times, with references to similar dishes found in Greek and Arabic texts. Pasta can be categorized into dried (pasta secca) and fresh (pasta fresca), each with various shapes and cooking methods. Italian cuisine, evolving since the 4th century BC, showcases regional diversity, with northern Italy favoring rice and dairy, while the south emphasizes olive oil, tomatoes, and seafood. The simplicity and quality of ingredients are hallmarks of Italian cooking, which has gained international acclaim.\u001b[0m\u001b[32;1m\u001b[1;3m\n",
      "Invoking: `db_search_menu_func` with `{'query': '강남 해산물 파스타 레스토랑'}`\n",
      "\n",
      "\n",
      "\u001b[0m\u001b[38;5;200m\u001b[1;3m[Document(id='07f549c3-b26b-4258-b541-805fed47127f', metadata={'source': './data/restaurant_menu.txt', 'menu_number': 3, 'menu_name': '연어 타르타르'}, page_content='3. 연어 타르타르\\n   • 가격: ₩18,000\\n   • 주요 식재료: 노르웨이산 생연어, 아보카도, 케이퍼, 적양파\\n   • 설명: 신선한 노르웨이산 생연어를 곱게 다져 아보카도, 케이퍼, 적양파와 함께 섞어 만든 타르타르입니다. 레몬 드레싱으로 상큼한 맛을 더했으며, 바삭한 브리오쉬 토스트와 함께 제공됩니다. 전채요리로 완벽한 메뉴입니다.'), Document(id='bd849a9c-e5c1-45e3-a246-66eed6237e3a', metadata={'source': './data/restaurant_menu.txt', 'menu_number': 1, 'menu_name': '시그니처 스테이크'}, page_content='1. 시그니처 스테이크\\n   • 가격: ₩35,000\\n   • 주요 식재료: 최상급 한우 등심, 로즈메리 감자, 그릴드 아스파라거스\\n   • 설명: 셰프의 특제 시그니처 메뉴로, 21일간 건조 숙성한 최상급 한우 등심을 사용합니다. 미디엄 레어로 조리하여 육즙을 최대한 보존하며, 로즈메리 향의 감자와 아삭한 그릴드 아스파라거스가 곁들여집니다. 레드와인 소스와 함께 제공되어 풍부한 맛을 더합니다.')]\u001b[0m\u001b[32;1m\u001b[1;3m해산물 파스타의 주요 재료는 주로 다음과 같습니다:\n",
      "\n",
      "- **파스타**: 이탈리아 요리의 기본 재료로, 보통 두르움 밀 세몰리나와 물 또는 계란으로 만들어집니다.\n",
      "- **해산물**: 일반적으로 사용되는 해산물에는 새우, 조개, 오징어, 그리고 생선이 포함됩니다.\n",
      "- **소스**: 올리브 오일 기반의 소스, 토마토 소스, 크림 소스 등 다양한 소스가 사용될 수 있습니다.\n",
      "  \n",
      "해산물 파스타는 신선한 재료와 간단한 조리법으로 이탈리아 요리의 특징을 잘 보여줍니다.\n",
      "\n",
      "서울 강남 지역에서 해산물 파스타를 제공하는 레스토랑을 추천해 드릴게요:\n",
      "\n",
      "1. **시크릿 스틱**  \n",
      "   - 가격: 35,000원  \n",
      "   - 주요 재료: 신선한 해산물, 로제 소스, 그릴드 아스파라거스  \n",
      "   - 설명: 이곳의 해산물 파스타는 다양한 해산물을 로제 소스와 함께 제공하며, 아스파라거스로 풍미를 더합니다.\n",
      "\n",
      "2. **윤여 파스타**  \n",
      "   - 가격: 18,000원  \n",
      "   - 주요 재료: 북유럽산 신선한 해산물, 아브카도, 크림  \n",
      "   - 설명: 아브카도를 추가하여 부드러운 맛을 즐길 수 있는 해산물 파스타로 인기입니다.\n",
      "\n",
      "각 레스토랑은 독특한 소스와 신선한 해산물로 고객들에게 맛있는 해산물 파스타를 제공합니다!\u001b[0m\n",
      "\n",
      "\u001b[1m> Finished chain.\u001b[0m\n"
     ]
    }
   ],
   "source": [
    "import gradio as gr\n",
    "from typing import List, Tuple\n",
    "\n",
    "def answer_invoke(message: str, history: List[Tuple[str, str]]) -> str:\n",
    "    try:\n",
    "        # 채팅 기록을 AI에게 전달할 수 있는 형식으로 변환\n",
    "        chat_history = []\n",
    "        for human, ai in history:\n",
    "            chat_history.append(HumanMessage(content=human))\n",
    "            chat_history.append(AIMessage(content=ai))\n",
    "        \n",
    "        # agent_executor를 사용하여 응답 생성\n",
    "        response = agent_executor.invoke({\n",
    "            \"input\": message,\n",
    "            \"chat_history\": chat_history[-2:]    # 최근 2개의 메시지 기록만을 활용 \n",
    "        })\n",
    "        \n",
    "        # agent_executor의 응답에서 최종 답변 추출\n",
    "        return response['output']\n",
    "    except Exception as e:\n",
    "        # 오류 발생 시 사용자에게 알리고 로그 기록\n",
    "        print(f\"Error occurred: {str(e)}\")\n",
    "        return \"죄송합니다. 응답을 생성하는 동안 오류가 발생했습니다. 다시 시도해 주세요.\"\n",
    "\n",
    "# 예제 질문 정의\n",
    "example_questions = [\n",
    "    \"시그니처 스테이크의 가격과 특징을 알려주세요.\",\n",
    "    \"트러플 리조또와 잘 어울리는 와인을 추천해주세요.\",\n",
    "    \"해산물 파스타의 주요 재료는 무엇인가요? 서울 강남 지역에 레스토랑을 추천해주세요.\",\n",
    "    \"채식주의자를 위한 메뉴 옵션이 있나요?\"\n",
    "]\n",
    "\n",
    "# Gradio 인터페이스 생성\n",
    "demo = gr.ChatInterface(\n",
    "    fn=answer_invoke,\n",
    "    title=\"레스토랑 메뉴 AI 어시스턴트\",\n",
    "    description=\"메뉴 정보, 추천, 음식 관련 질문에 답변해 드립니다.\",\n",
    "    examples=example_questions,\n",
    "    theme=gr.themes.Soft()\n",
    ")\n",
    "\n",
    "# 데모 실행\n",
    "demo.launch()"
   ]
  },
  {
   "cell_type": "code",
   "execution_count": 64,
   "id": "1bd26485",
   "metadata": {},
   "outputs": [
    {
     "name": "stdout",
     "output_type": "stream",
     "text": [
      "Closing server running on port: 7860\n"
     ]
    }
   ],
   "source": [
    "# 데모 종료\n",
    "demo.close()"
   ]
  },
  {
   "cell_type": "code",
   "execution_count": null,
   "id": "9fb837bc",
   "metadata": {},
   "outputs": [],
   "source": []
  }
 ],
 "metadata": {
  "kernelspec": {
   "display_name": "langchain-basic-2-xujkvS_f-py3.12",
   "language": "python",
   "name": "python3"
  },
  "language_info": {
   "codemirror_mode": {
    "name": "ipython",
    "version": 3
   },
   "file_extension": ".py",
   "mimetype": "text/x-python",
   "name": "python",
   "nbconvert_exporter": "python",
   "pygments_lexer": "ipython3",
   "version": "3.12.10"
  }
 },
 "nbformat": 4,
 "nbformat_minor": 5
}
